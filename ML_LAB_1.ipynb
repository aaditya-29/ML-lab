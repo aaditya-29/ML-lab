{
 "cells": [
  {
   "cell_type": "markdown",
   "id": "c2f7654c-e600-40dd-b36c-2c28857eeeea",
   "metadata": {},
   "source": [
    "**Consider the given list as [2, 7, 4, 1, 3, 6]. Write a program to count pairs of elements with \n",
    "sum equal to 10.**"
   ]
  },
  {
   "cell_type": "code",
   "execution_count": 2,
   "id": "eb94aa76-ecc9-4af3-ab40-7b193b07b605",
   "metadata": {},
   "outputs": [
    {
     "name": "stdout",
     "output_type": "stream",
     "text": [
      "2\n"
     ]
    }
   ],
   "source": [
    "def count_pair(li):\n",
    "    count = 0\n",
    "    for i in range(len(li)):\n",
    "        for j in range (i+1, len(li)):\n",
    "             if (li[i] + li[j] ) == 10:\n",
    "                 count = count + 1\n",
    "    return count\n",
    "li = [2, 7, 4, 1, 3, 6]\n",
    "print(count_pair(li))"
   ]
  },
  {
   "cell_type": "markdown",
   "id": "0a82fe14-9f99-4976-b608-1ff075f76426",
   "metadata": {},
   "source": [
    "**Write a program that takes a list of real numbers as input and returns the range (difference \n",
    "between minimum and maximum) of the list. Check for list being less than 3 elements in \n",
    "which case return an error message (Ex: “Range determination not possible”). Given a list\n",
    "[5,3,8,1,0,4], the range is 8 (8-0).**"
   ]
  },
  {
   "cell_type": "code",
   "execution_count": 4,
   "id": "0ce14150-9c9a-430d-ad21-9d7f4a345b6a",
   "metadata": {},
   "outputs": [
    {
     "name": "stdin",
     "output_type": "stream",
     "text": [
      "Enter the size of the list 3\n",
      "Enter elements :  1\n",
      "Enter elements :  2\n",
      "Enter elements :  3\n"
     ]
    },
    {
     "name": "stdout",
     "output_type": "stream",
     "text": [
      "[1.0, 2.0, 3.0]\n",
      "2.0\n"
     ]
    }
   ],
   "source": [
    "def get_range(li):\n",
    "    if (length < 3):\n",
    "        print(\"Range Determination not possible\")\n",
    "        retun -1\n",
    "\n",
    "    \n",
    "    else:\n",
    "        min = li[0]\n",
    "        max = li[0]\n",
    "        for i in range (1, len(li)):\n",
    "            if( li[i] < min ):\n",
    "                min = li[i]\n",
    "            if (li[i] > max ):\n",
    "                max =  li[i]\n",
    "        return (max- min)\n",
    "            \n",
    "length = int(input(\"Enter the size of the list\"))\n",
    "li = []\n",
    "for i in range(length):\n",
    "    x = float(input(\"Enter elements : \"))\n",
    "    li.append(x)\n",
    "print(li)\n",
    "print(get_range(li))\n",
    "            "
   ]
  },
  {
   "cell_type": "markdown",
   "id": "daf7de91-222d-4360-b03c-6a349412ab85",
   "metadata": {},
   "source": [
    "**Write a program that accepts a square matrix A and a positive integer m as arguments and \n",
    "returns A^m**"
   ]
  },
  {
   "cell_type": "code",
   "execution_count": 44,
   "id": "91cac9b6-7982-4e60-ae31-114ea4a5f754",
   "metadata": {},
   "outputs": [
    {
     "name": "stdin",
     "output_type": "stream",
     "text": [
      "Enter the size of the square matrix 2\n",
      "Enter the elements of matrix 1\n",
      "Enter the elements of matrix 1\n",
      "Enter the elements of matrix 1\n",
      "Enter the elements of matrix 1\n"
     ]
    },
    {
     "name": "stdout",
     "output_type": "stream",
     "text": [
      "[[1, 1], [1, 1]]\n"
     ]
    },
    {
     "name": "stdin",
     "output_type": "stream",
     "text": [
      "Enter a number to calculate power of A 2\n"
     ]
    },
    {
     "name": "stdout",
     "output_type": "stream",
     "text": [
      "[[2, 2], [2, 2]]\n"
     ]
    }
   ],
   "source": [
    "def mat_mul(l1, l2):\n",
    "    ans= []\n",
    "    for i in range(len(l1)):\n",
    "        l=[]\n",
    "        for j in range(len(l1[0])):\n",
    "            sum = 0\n",
    "            for k in range(len(l1[0])):\n",
    "                sum += l1[i][k] * l2[k][j]\n",
    "            l.append(sum)\n",
    "        ans.append(l)\n",
    "    return ans \n",
    "\n",
    "def mat_power( li , p):\n",
    "    ans = li\n",
    "    for i in range (p-1):\n",
    "        ans = mat_mul(ans , li)\n",
    "    return ans\n",
    "\n",
    "\n",
    "    \n",
    "m= int(input(\"Enter the size of the square matrix\"))\n",
    "li = []\n",
    "for i in range(m):\n",
    "    l = []\n",
    "    for j in range(m):\n",
    "        x = int(input(\"Enter the elements of matrix\"))\n",
    "        l.append(x)\n",
    "    li.append(l)\n",
    "print(li)\n",
    "p = int(input(\"Enter a number to calculate power of A\"))\n",
    "print(mat_power(li, p))"
   ]
  },
  {
   "cell_type": "markdown",
   "id": "76bc47a2-6151-4afd-8f91-d0d55f834935",
   "metadata": {},
   "source": [
    "**Write a program to count the highest occurring character & its occurrence count in an input\n",
    "string. Consider only alphabets. Ex: for “hippopotamus” as input string, the maximally \n",
    "occurring character is ‘p’ & occurrence count is 3**"
   ]
  },
  {
   "cell_type": "code",
   "execution_count": 47,
   "id": "1015c557-9b03-4adc-a0bc-91e91d5b63fa",
   "metadata": {},
   "outputs": [
    {
     "name": "stdin",
     "output_type": "stream",
     "text": [
      "Enter the word aaditya\n"
     ]
    },
    {
     "name": "stdout",
     "output_type": "stream",
     "text": [
      "a 3\n"
     ]
    }
   ],
   "source": [
    "mydict = {}\n",
    "string = input(\"Enter the word\")\n",
    "for i in string:\n",
    "    mydict[i] = 0\n",
    "for i in string:\n",
    "    mydict[i] += 1\n",
    "ch = \"\"\n",
    "mx = 0\n",
    "for i in string:\n",
    "    if(mx<mydict[i]):\n",
    "        ch = i\n",
    "print(ch,mydict[ch])"
   ]
  },
  {
   "cell_type": "code",
   "execution_count": null,
   "id": "1012c862-b573-4a81-8907-3ad5a9dec893",
   "metadata": {},
   "outputs": [],
   "source": []
  }
 ],
 "metadata": {
  "kernelspec": {
   "display_name": "Python 3 (ipykernel)",
   "language": "python",
   "name": "python3"
  },
  "language_info": {
   "codemirror_mode": {
    "name": "ipython",
    "version": 3
   },
   "file_extension": ".py",
   "mimetype": "text/x-python",
   "name": "python",
   "nbconvert_exporter": "python",
   "pygments_lexer": "ipython3",
   "version": "3.12.4"
  }
 },
 "nbformat": 4,
 "nbformat_minor": 5
}
