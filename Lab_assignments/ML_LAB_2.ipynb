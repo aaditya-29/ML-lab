{
 "cells": [
  {
   "cell_type": "code",
   "execution_count": 1,
   "id": "9a61dd16-97f8-4a4f-804b-c5f94145385c",
   "metadata": {},
   "outputs": [],
   "source": [
    "import pandas as pd\n",
    "import numpy as np"
   ]
  },
  {
   "cell_type": "code",
   "execution_count": 2,
   "id": "080c4a21-424e-489b-b0c5-1a92a1850826",
   "metadata": {},
   "outputs": [],
   "source": [
    "df1 = pd.read_excel(\"./Lab Session Data.xlsx\", sheet_name = None)"
   ]
  },
  {
   "cell_type": "code",
   "execution_count": 3,
   "id": "f119fd9c-0b40-4931-889b-1deb484ff486",
   "metadata": {},
   "outputs": [
    {
     "data": {
      "text/html": [
       "<div>\n",
       "<style scoped>\n",
       "    .dataframe tbody tr th:only-of-type {\n",
       "        vertical-align: middle;\n",
       "    }\n",
       "\n",
       "    .dataframe tbody tr th {\n",
       "        vertical-align: top;\n",
       "    }\n",
       "\n",
       "    .dataframe thead th {\n",
       "        text-align: right;\n",
       "    }\n",
       "</style>\n",
       "<table border=\"1\" class=\"dataframe\">\n",
       "  <thead>\n",
       "    <tr style=\"text-align: right;\">\n",
       "      <th></th>\n",
       "      <th>Customer</th>\n",
       "      <th>Candies (#)</th>\n",
       "      <th>Mangoes (Kg)</th>\n",
       "      <th>Milk Packets (#)</th>\n",
       "      <th>Payment (Rs)</th>\n",
       "    </tr>\n",
       "  </thead>\n",
       "  <tbody>\n",
       "    <tr>\n",
       "      <th>0</th>\n",
       "      <td>C_1</td>\n",
       "      <td>20</td>\n",
       "      <td>6</td>\n",
       "      <td>2</td>\n",
       "      <td>386</td>\n",
       "    </tr>\n",
       "    <tr>\n",
       "      <th>1</th>\n",
       "      <td>C_2</td>\n",
       "      <td>16</td>\n",
       "      <td>3</td>\n",
       "      <td>6</td>\n",
       "      <td>289</td>\n",
       "    </tr>\n",
       "    <tr>\n",
       "      <th>2</th>\n",
       "      <td>C_3</td>\n",
       "      <td>27</td>\n",
       "      <td>6</td>\n",
       "      <td>2</td>\n",
       "      <td>393</td>\n",
       "    </tr>\n",
       "    <tr>\n",
       "      <th>3</th>\n",
       "      <td>C_4</td>\n",
       "      <td>19</td>\n",
       "      <td>1</td>\n",
       "      <td>2</td>\n",
       "      <td>110</td>\n",
       "    </tr>\n",
       "    <tr>\n",
       "      <th>4</th>\n",
       "      <td>C_5</td>\n",
       "      <td>24</td>\n",
       "      <td>4</td>\n",
       "      <td>2</td>\n",
       "      <td>280</td>\n",
       "    </tr>\n",
       "    <tr>\n",
       "      <th>5</th>\n",
       "      <td>C_6</td>\n",
       "      <td>22</td>\n",
       "      <td>1</td>\n",
       "      <td>5</td>\n",
       "      <td>167</td>\n",
       "    </tr>\n",
       "    <tr>\n",
       "      <th>6</th>\n",
       "      <td>C_7</td>\n",
       "      <td>15</td>\n",
       "      <td>4</td>\n",
       "      <td>2</td>\n",
       "      <td>271</td>\n",
       "    </tr>\n",
       "    <tr>\n",
       "      <th>7</th>\n",
       "      <td>C_8</td>\n",
       "      <td>18</td>\n",
       "      <td>4</td>\n",
       "      <td>2</td>\n",
       "      <td>274</td>\n",
       "    </tr>\n",
       "    <tr>\n",
       "      <th>8</th>\n",
       "      <td>C_9</td>\n",
       "      <td>21</td>\n",
       "      <td>1</td>\n",
       "      <td>4</td>\n",
       "      <td>148</td>\n",
       "    </tr>\n",
       "    <tr>\n",
       "      <th>9</th>\n",
       "      <td>C_10</td>\n",
       "      <td>16</td>\n",
       "      <td>2</td>\n",
       "      <td>4</td>\n",
       "      <td>198</td>\n",
       "    </tr>\n",
       "  </tbody>\n",
       "</table>\n",
       "</div>"
      ],
      "text/plain": [
       "  Customer  Candies (#)  Mangoes (Kg)  Milk Packets (#)  Payment (Rs)\n",
       "0      C_1           20             6                 2           386\n",
       "1      C_2           16             3                 6           289\n",
       "2      C_3           27             6                 2           393\n",
       "3      C_4           19             1                 2           110\n",
       "4      C_5           24             4                 2           280\n",
       "5      C_6           22             1                 5           167\n",
       "6      C_7           15             4                 2           271\n",
       "7      C_8           18             4                 2           274\n",
       "8      C_9           21             1                 4           148\n",
       "9     C_10           16             2                 4           198"
      ]
     },
     "execution_count": 3,
     "metadata": {},
     "output_type": "execute_result"
    }
   ],
   "source": [
    "df = df1['Purchase data'].iloc[:,0:5]\n",
    "df"
   ]
  },
  {
   "cell_type": "code",
   "execution_count": 4,
   "id": "a24c18fe-7622-4ff6-b5a0-b74e395f4701",
   "metadata": {},
   "outputs": [],
   "source": [
    "A = df[['Candies (#)', 'Mangoes (Kg)', 'Milk Packets (#)']].fillna(0).values\n"
   ]
  },
  {
   "cell_type": "code",
   "execution_count": 5,
   "id": "c6b6c7fa-fbad-4478-baf4-e29d5a56f8bf",
   "metadata": {},
   "outputs": [],
   "source": [
    "C = df[['Payment (Rs)']].values\n"
   ]
  },
  {
   "cell_type": "code",
   "execution_count": 6,
   "id": "a9d69588-820d-4092-82b2-c09e3531cae3",
   "metadata": {},
   "outputs": [
    {
     "name": "stdout",
     "output_type": "stream",
     "text": [
      "Dimensionality of the vector space is 3\n"
     ]
    }
   ],
   "source": [
    "\n",
    "Dimensionality = A.shape[1]\n",
    "print(f\"Dimensionality of the vector space is {Dimensionality}\")"
   ]
  },
  {
   "cell_type": "code",
   "execution_count": 7,
   "id": "a74db3dd-459f-4f47-9fe8-62835c379852",
   "metadata": {},
   "outputs": [
    {
     "name": "stdout",
     "output_type": "stream",
     "text": [
      "Number of vectors  is 10\n"
     ]
    }
   ],
   "source": [
    "Num_of_vectors = A.shape[0]\n",
    "print(f\"Number of vectors  is {Num_of_vectors}\")"
   ]
  },
  {
   "cell_type": "code",
   "execution_count": 8,
   "id": "6a32acca-ba84-431d-af2f-2f86e71fbe64",
   "metadata": {},
   "outputs": [
    {
     "name": "stdout",
     "output_type": "stream",
     "text": [
      "Rank is 3\n"
     ]
    }
   ],
   "source": [
    "rank = np.linalg.matrix_rank(A)\n",
    "print(f\"Rank is {rank}\")"
   ]
  },
  {
   "cell_type": "code",
   "execution_count": 9,
   "id": "0d656c4f-c391-474c-b2da-5b76e0971a44",
   "metadata": {},
   "outputs": [
    {
     "name": "stdout",
     "output_type": "stream",
     "text": [
      "Costs are : \n",
      "1.00\n",
      "55.00\n",
      "18.00\n"
     ]
    }
   ],
   "source": [
    "A_pseudo_inverse = np.linalg.pinv(A)\n",
    "x = A_pseudo_inverse.dot(C)  #linear equations AX=C using the pseudo-inverse of matrix A\n",
    "print(\"Costs are : \")\n",
    "for cost in x:\n",
    "    print(f\"{cost[0]:.2f}\")"
   ]
  },
  {
   "cell_type": "markdown",
   "id": "aa4ac015-f337-472a-ac05-882c5fa8fccc",
   "metadata": {},
   "source": [
    "***Mark all customers (in “Purchase Data” table) with payments above Rs. 200 as RICH and others \n",
    "as POOR.Develop a classifier model to categorize customers into RICH or POOR class based on \n",
    "purchase behavior***"
   ]
  },
  {
   "cell_type": "code",
   "execution_count": 11,
   "id": "881e4e87-9305-4d99-828b-68c2f442b9f3",
   "metadata": {},
   "outputs": [],
   "source": [
    "mask = df['Payment (Rs)'] > 200\n",
    "df['class'] = mask.map({True: 'RICH' , False: 'POOR'})"
   ]
  },
  {
   "cell_type": "code",
   "execution_count": 12,
   "id": "8b786b37-98be-4f20-87dd-fa384074ecb5",
   "metadata": {},
   "outputs": [
    {
     "data": {
      "text/html": [
       "<div>\n",
       "<style scoped>\n",
       "    .dataframe tbody tr th:only-of-type {\n",
       "        vertical-align: middle;\n",
       "    }\n",
       "\n",
       "    .dataframe tbody tr th {\n",
       "        vertical-align: top;\n",
       "    }\n",
       "\n",
       "    .dataframe thead th {\n",
       "        text-align: right;\n",
       "    }\n",
       "</style>\n",
       "<table border=\"1\" class=\"dataframe\">\n",
       "  <thead>\n",
       "    <tr style=\"text-align: right;\">\n",
       "      <th></th>\n",
       "      <th>Customer</th>\n",
       "      <th>Candies (#)</th>\n",
       "      <th>Mangoes (Kg)</th>\n",
       "      <th>Milk Packets (#)</th>\n",
       "      <th>Payment (Rs)</th>\n",
       "      <th>class</th>\n",
       "    </tr>\n",
       "  </thead>\n",
       "  <tbody>\n",
       "    <tr>\n",
       "      <th>0</th>\n",
       "      <td>C_1</td>\n",
       "      <td>20</td>\n",
       "      <td>6</td>\n",
       "      <td>2</td>\n",
       "      <td>386</td>\n",
       "      <td>RICH</td>\n",
       "    </tr>\n",
       "    <tr>\n",
       "      <th>1</th>\n",
       "      <td>C_2</td>\n",
       "      <td>16</td>\n",
       "      <td>3</td>\n",
       "      <td>6</td>\n",
       "      <td>289</td>\n",
       "      <td>RICH</td>\n",
       "    </tr>\n",
       "    <tr>\n",
       "      <th>2</th>\n",
       "      <td>C_3</td>\n",
       "      <td>27</td>\n",
       "      <td>6</td>\n",
       "      <td>2</td>\n",
       "      <td>393</td>\n",
       "      <td>RICH</td>\n",
       "    </tr>\n",
       "    <tr>\n",
       "      <th>3</th>\n",
       "      <td>C_4</td>\n",
       "      <td>19</td>\n",
       "      <td>1</td>\n",
       "      <td>2</td>\n",
       "      <td>110</td>\n",
       "      <td>POOR</td>\n",
       "    </tr>\n",
       "    <tr>\n",
       "      <th>4</th>\n",
       "      <td>C_5</td>\n",
       "      <td>24</td>\n",
       "      <td>4</td>\n",
       "      <td>2</td>\n",
       "      <td>280</td>\n",
       "      <td>RICH</td>\n",
       "    </tr>\n",
       "    <tr>\n",
       "      <th>5</th>\n",
       "      <td>C_6</td>\n",
       "      <td>22</td>\n",
       "      <td>1</td>\n",
       "      <td>5</td>\n",
       "      <td>167</td>\n",
       "      <td>POOR</td>\n",
       "    </tr>\n",
       "    <tr>\n",
       "      <th>6</th>\n",
       "      <td>C_7</td>\n",
       "      <td>15</td>\n",
       "      <td>4</td>\n",
       "      <td>2</td>\n",
       "      <td>271</td>\n",
       "      <td>RICH</td>\n",
       "    </tr>\n",
       "    <tr>\n",
       "      <th>7</th>\n",
       "      <td>C_8</td>\n",
       "      <td>18</td>\n",
       "      <td>4</td>\n",
       "      <td>2</td>\n",
       "      <td>274</td>\n",
       "      <td>RICH</td>\n",
       "    </tr>\n",
       "    <tr>\n",
       "      <th>8</th>\n",
       "      <td>C_9</td>\n",
       "      <td>21</td>\n",
       "      <td>1</td>\n",
       "      <td>4</td>\n",
       "      <td>148</td>\n",
       "      <td>POOR</td>\n",
       "    </tr>\n",
       "    <tr>\n",
       "      <th>9</th>\n",
       "      <td>C_10</td>\n",
       "      <td>16</td>\n",
       "      <td>2</td>\n",
       "      <td>4</td>\n",
       "      <td>198</td>\n",
       "      <td>POOR</td>\n",
       "    </tr>\n",
       "  </tbody>\n",
       "</table>\n",
       "</div>"
      ],
      "text/plain": [
       "  Customer  Candies (#)  Mangoes (Kg)  Milk Packets (#)  Payment (Rs) class\n",
       "0      C_1           20             6                 2           386  RICH\n",
       "1      C_2           16             3                 6           289  RICH\n",
       "2      C_3           27             6                 2           393  RICH\n",
       "3      C_4           19             1                 2           110  POOR\n",
       "4      C_5           24             4                 2           280  RICH\n",
       "5      C_6           22             1                 5           167  POOR\n",
       "6      C_7           15             4                 2           271  RICH\n",
       "7      C_8           18             4                 2           274  RICH\n",
       "8      C_9           21             1                 4           148  POOR\n",
       "9     C_10           16             2                 4           198  POOR"
      ]
     },
     "execution_count": 12,
     "metadata": {},
     "output_type": "execute_result"
    }
   ],
   "source": [
    "df"
   ]
  },
  {
   "cell_type": "markdown",
   "id": "f445b9ce-26c0-4e22-9a94-acd6eb6966e0",
   "metadata": {},
   "source": [
    "***IRCTC Stock Price***"
   ]
  },
  {
   "cell_type": "code",
   "execution_count": 14,
   "id": "3fd13a9f-5ddf-4d8f-80f6-e8c5102016f5",
   "metadata": {},
   "outputs": [],
   "source": [
    "df_IRCTC = pd.read_excel(\"./Lab Session Data.xlsx\", sheet_name = None)"
   ]
  },
  {
   "cell_type": "code",
   "execution_count": 15,
   "id": "33e8266d-6120-4bba-8265-140273e50f7c",
   "metadata": {
    "scrolled": true
   },
   "outputs": [
    {
     "data": {
      "text/html": [
       "<div>\n",
       "<style scoped>\n",
       "    .dataframe tbody tr th:only-of-type {\n",
       "        vertical-align: middle;\n",
       "    }\n",
       "\n",
       "    .dataframe tbody tr th {\n",
       "        vertical-align: top;\n",
       "    }\n",
       "\n",
       "    .dataframe thead th {\n",
       "        text-align: right;\n",
       "    }\n",
       "</style>\n",
       "<table border=\"1\" class=\"dataframe\">\n",
       "  <thead>\n",
       "    <tr style=\"text-align: right;\">\n",
       "      <th></th>\n",
       "      <th>Date</th>\n",
       "      <th>Month</th>\n",
       "      <th>Day</th>\n",
       "      <th>Price</th>\n",
       "      <th>Open</th>\n",
       "      <th>High</th>\n",
       "      <th>Low</th>\n",
       "      <th>Volume</th>\n",
       "      <th>Chg%</th>\n",
       "    </tr>\n",
       "  </thead>\n",
       "  <tbody>\n",
       "    <tr>\n",
       "      <th>0</th>\n",
       "      <td>Jun 29, 2021</td>\n",
       "      <td>Jun</td>\n",
       "      <td>Tue</td>\n",
       "      <td>2081.85</td>\n",
       "      <td>2092.00</td>\n",
       "      <td>2126.90</td>\n",
       "      <td>2065.05</td>\n",
       "      <td>1.67M</td>\n",
       "      <td>0.0020</td>\n",
       "    </tr>\n",
       "    <tr>\n",
       "      <th>1</th>\n",
       "      <td>Jun 28, 2021</td>\n",
       "      <td>Jun</td>\n",
       "      <td>Mon</td>\n",
       "      <td>2077.75</td>\n",
       "      <td>2084.00</td>\n",
       "      <td>2112.45</td>\n",
       "      <td>2068.40</td>\n",
       "      <td>707.73K</td>\n",
       "      <td>0.0043</td>\n",
       "    </tr>\n",
       "    <tr>\n",
       "      <th>2</th>\n",
       "      <td>Jun 25, 2021</td>\n",
       "      <td>Jun</td>\n",
       "      <td>Fri</td>\n",
       "      <td>2068.85</td>\n",
       "      <td>2084.35</td>\n",
       "      <td>2088.50</td>\n",
       "      <td>2053.10</td>\n",
       "      <td>475.82K</td>\n",
       "      <td>-0.0020</td>\n",
       "    </tr>\n",
       "    <tr>\n",
       "      <th>3</th>\n",
       "      <td>Jun 24, 2021</td>\n",
       "      <td>Jun</td>\n",
       "      <td>Thu</td>\n",
       "      <td>2072.95</td>\n",
       "      <td>2098.00</td>\n",
       "      <td>2098.00</td>\n",
       "      <td>2066.00</td>\n",
       "      <td>541.51K</td>\n",
       "      <td>-0.0026</td>\n",
       "    </tr>\n",
       "    <tr>\n",
       "      <th>4</th>\n",
       "      <td>Jun 23, 2021</td>\n",
       "      <td>Jun</td>\n",
       "      <td>Wed</td>\n",
       "      <td>2078.25</td>\n",
       "      <td>2102.00</td>\n",
       "      <td>2111.40</td>\n",
       "      <td>2072.00</td>\n",
       "      <td>809.62K</td>\n",
       "      <td>-0.0023</td>\n",
       "    </tr>\n",
       "    <tr>\n",
       "      <th>...</th>\n",
       "      <td>...</td>\n",
       "      <td>...</td>\n",
       "      <td>...</td>\n",
       "      <td>...</td>\n",
       "      <td>...</td>\n",
       "      <td>...</td>\n",
       "      <td>...</td>\n",
       "      <td>...</td>\n",
       "      <td>...</td>\n",
       "    </tr>\n",
       "    <tr>\n",
       "      <th>244</th>\n",
       "      <td>Jul 07, 2020</td>\n",
       "      <td>Jul</td>\n",
       "      <td>Tue</td>\n",
       "      <td>1397.40</td>\n",
       "      <td>1410.00</td>\n",
       "      <td>1411.00</td>\n",
       "      <td>1390.05</td>\n",
       "      <td>480.21K</td>\n",
       "      <td>-0.0024</td>\n",
       "    </tr>\n",
       "    <tr>\n",
       "      <th>245</th>\n",
       "      <td>Jul 06, 2020</td>\n",
       "      <td>Jul</td>\n",
       "      <td>Mon</td>\n",
       "      <td>1400.75</td>\n",
       "      <td>1405.50</td>\n",
       "      <td>1415.50</td>\n",
       "      <td>1394.00</td>\n",
       "      <td>614.93K</td>\n",
       "      <td>-0.0031</td>\n",
       "    </tr>\n",
       "    <tr>\n",
       "      <th>246</th>\n",
       "      <td>Jul 03, 2020</td>\n",
       "      <td>Jul</td>\n",
       "      <td>Fri</td>\n",
       "      <td>1405.10</td>\n",
       "      <td>1415.00</td>\n",
       "      <td>1425.00</td>\n",
       "      <td>1398.00</td>\n",
       "      <td>599.49K</td>\n",
       "      <td>-0.0051</td>\n",
       "    </tr>\n",
       "    <tr>\n",
       "      <th>247</th>\n",
       "      <td>Jul 02, 2020</td>\n",
       "      <td>Jul</td>\n",
       "      <td>Thu</td>\n",
       "      <td>1412.35</td>\n",
       "      <td>1440.00</td>\n",
       "      <td>1467.80</td>\n",
       "      <td>1395.30</td>\n",
       "      <td>2.16M</td>\n",
       "      <td>0.0362</td>\n",
       "    </tr>\n",
       "    <tr>\n",
       "      <th>248</th>\n",
       "      <td>Jul 01, 2020</td>\n",
       "      <td>Jul</td>\n",
       "      <td>Wed</td>\n",
       "      <td>1363.05</td>\n",
       "      <td>1363.65</td>\n",
       "      <td>1377.00</td>\n",
       "      <td>1356.00</td>\n",
       "      <td>383.00K</td>\n",
       "      <td>0.0032</td>\n",
       "    </tr>\n",
       "  </tbody>\n",
       "</table>\n",
       "<p>249 rows × 9 columns</p>\n",
       "</div>"
      ],
      "text/plain": [
       "             Date Month  Day    Price     Open     High      Low   Volume  \\\n",
       "0    Jun 29, 2021   Jun  Tue  2081.85  2092.00  2126.90  2065.05    1.67M   \n",
       "1    Jun 28, 2021   Jun  Mon  2077.75  2084.00  2112.45  2068.40  707.73K   \n",
       "2    Jun 25, 2021   Jun  Fri  2068.85  2084.35  2088.50  2053.10  475.82K   \n",
       "3    Jun 24, 2021   Jun  Thu  2072.95  2098.00  2098.00  2066.00  541.51K   \n",
       "4    Jun 23, 2021   Jun  Wed  2078.25  2102.00  2111.40  2072.00  809.62K   \n",
       "..            ...   ...  ...      ...      ...      ...      ...      ...   \n",
       "244  Jul 07, 2020   Jul  Tue  1397.40  1410.00  1411.00  1390.05  480.21K   \n",
       "245  Jul 06, 2020   Jul  Mon  1400.75  1405.50  1415.50  1394.00  614.93K   \n",
       "246  Jul 03, 2020   Jul  Fri  1405.10  1415.00  1425.00  1398.00  599.49K   \n",
       "247  Jul 02, 2020   Jul  Thu  1412.35  1440.00  1467.80  1395.30    2.16M   \n",
       "248  Jul 01, 2020   Jul  Wed  1363.05  1363.65  1377.00  1356.00  383.00K   \n",
       "\n",
       "       Chg%  \n",
       "0    0.0020  \n",
       "1    0.0043  \n",
       "2   -0.0020  \n",
       "3   -0.0026  \n",
       "4   -0.0023  \n",
       "..      ...  \n",
       "244 -0.0024  \n",
       "245 -0.0031  \n",
       "246 -0.0051  \n",
       "247  0.0362  \n",
       "248  0.0032  \n",
       "\n",
       "[249 rows x 9 columns]"
      ]
     },
     "execution_count": 15,
     "metadata": {},
     "output_type": "execute_result"
    }
   ],
   "source": [
    "df_IRCTC = df1['IRCTC Stock Price'].iloc[:,0:9]\n",
    "df_IRCTC"
   ]
  },
  {
   "cell_type": "code",
   "execution_count": 16,
   "id": "8d5f9491-0396-4451-bfe5-7967b3c628f6",
   "metadata": {},
   "outputs": [],
   "source": [
    "import statistics as sts"
   ]
  },
  {
   "cell_type": "code",
   "execution_count": 17,
   "id": "e80a43df-f2e1-4f76-931a-fe32f2903278",
   "metadata": {},
   "outputs": [],
   "source": [
    "price_data = df_IRCTC['Price']"
   ]
  },
  {
   "cell_type": "code",
   "execution_count": 18,
   "id": "32695763-4889-49c8-bf93-92b09233c02b",
   "metadata": {},
   "outputs": [
    {
     "name": "stdout",
     "output_type": "stream",
     "text": [
      " Mean is :1560.663453815261\n",
      " Variance is : 58732.365352539186\n"
     ]
    }
   ],
   "source": [
    "mean = sts.mean(price_data)\n",
    "variance = sts.variance(price_data)\n",
    "print(f\" Mean is :{mean}\")\n",
    "print(f\" Variance is : {variance}\")"
   ]
  },
  {
   "cell_type": "code",
   "execution_count": 19,
   "id": "08766c59-a71a-4034-b6ab-faac10de9bf2",
   "metadata": {},
   "outputs": [],
   "source": [
    "df_IRCTC['Date'] = pd.to_datetime(df_IRCTC['Date'])"
   ]
  },
  {
   "cell_type": "code",
   "execution_count": 20,
   "id": "9838b191-74ec-403f-bb32-cb7a48665b63",
   "metadata": {},
   "outputs": [],
   "source": [
    "wednesday_data = df_IRCTC[df_IRCTC['Date'].dt.weekday==2]\n"
   ]
  },
  {
   "cell_type": "code",
   "execution_count": 21,
   "id": "69024bd8-9b6a-4b2a-9e20-1655696a4e57",
   "metadata": {},
   "outputs": [
    {
     "data": {
      "text/plain": [
       "1550.706"
      ]
     },
     "execution_count": 21,
     "metadata": {},
     "output_type": "execute_result"
    }
   ],
   "source": [
    "wednesday_mean = sts.mean(wednesday_data['Price'])\n",
    "wednesday_mean"
   ]
  },
  {
   "cell_type": "code",
   "execution_count": 22,
   "id": "30f2e2aa-41ac-47ee-8946-a51cfafe0f30",
   "metadata": {},
   "outputs": [],
   "source": [
    "april_data = df_IRCTC[df_IRCTC['Date'].dt.month==3]\n"
   ]
  },
  {
   "cell_type": "code",
   "execution_count": 23,
   "id": "a8169554-a790-411d-98ba-51c57f30b34f",
   "metadata": {},
   "outputs": [
    {
     "data": {
      "text/plain": [
       "1875.7904761904763"
      ]
     },
     "execution_count": 23,
     "metadata": {},
     "output_type": "execute_result"
    }
   ],
   "source": [
    "april_mean = sts.mean(april_data['Price'])\n",
    "april_mean"
   ]
  },
  {
   "cell_type": "code",
   "execution_count": 24,
   "id": "22991a21-7d8a-4320-8b5c-4bd46a8dad6f",
   "metadata": {},
   "outputs": [],
   "source": [
    "change_data = df_IRCTC['Chg%']"
   ]
  },
  {
   "cell_type": "code",
   "execution_count": 25,
   "id": "06e136bf-171f-4c48-b298-40b41e1d104f",
   "metadata": {},
   "outputs": [
    {
     "name": "stdout",
     "output_type": "stream",
     "text": [
      "Probability of losses is : 0.4979919678714859\n"
     ]
    }
   ],
   "source": [
    "losses = len(list(filter(lambda x:x<0, change_data)))\n",
    "total_days = len(change_data)\n",
    "prob = losses / total_days\n",
    "print(f\"Probability of losses is : {prob}\")"
   ]
  },
  {
   "cell_type": "code",
   "execution_count": 26,
   "id": "e095e0d2-4b4a-43f1-92c1-344e6a9f477e",
   "metadata": {},
   "outputs": [
    {
     "name": "stdout",
     "output_type": "stream",
     "text": [
      "Conditional Probability of making a profit on Wednesday is : 0.42\n"
     ]
    }
   ],
   "source": [
    "num_of_wed = len(df_IRCTC[df_IRCTC['Date'].dt.weekday==2])\n",
    "num_of_wed_profit = len(list(filter(lambda x:x>0, wednesday_data['Chg%'])))\n",
    "probab_profit_wednesday = num_of_wed_profit / num_of_wed\n",
    "print(f\"Conditional Probability of making a profit on Wednesday is : {probab_profit_wednesday}\")"
   ]
  },
  {
   "cell_type": "code",
   "execution_count": 27,
   "id": "7902d7d5-f4ce-40bb-9f12-c1204d71c334",
   "metadata": {},
   "outputs": [],
   "source": [
    "import matplotlib.pyplot as plt"
   ]
  },
  {
   "cell_type": "code",
   "execution_count": 28,
   "id": "dd1414e1-cbe5-4bd2-8435-f459596338a7",
   "metadata": {},
   "outputs": [],
   "source": [
    "df_IRCTC['DayOfWeek'] = df_IRCTC['Date'].dt.dayofweek"
   ]
  },
  {
   "cell_type": "code",
   "execution_count": 29,
   "id": "3bd4dd0a-c57b-4acc-ae77-cf21a3ac63ba",
   "metadata": {},
   "outputs": [
    {
     "data": {
      "image/png": "[encoded data removed]",
      "text/plain": [
       "<Figure size 640x480 with 1 Axes>"
      ]
     },
     "metadata": {},
     "output_type": "display_data"
    }
   ],
   "source": [
    "plt.scatter(df_IRCTC['DayOfWeek'] , df_IRCTC['Chg%'])\n",
    "plt.xlabel('Day  of week')\n",
    "plt.ylabel('Chg%')\n",
    "plt.title('Chg% vs Day of the Week')\n",
    "plt.show()"
   ]
  },
  {
   "cell_type": "markdown",
   "id": "b7da17ed-096e-4748-b63c-fd7e4b4abae8",
   "metadata": {},
   "source": [
    "***Data Exploration: Load the data available in “thyroid0387_UCI” worksheet. Perform the \n",
    "following tasks***"
   ]
  },
  {
   "cell_type": "code",
   "execution_count": 31,
   "id": "5171d93e-ab00-450c-8ca5-b58b699307d1",
   "metadata": {},
   "outputs": [],
   "source": [
    "thyroid_df = pd.read_excel(\"./Lab Session Data.xlsx\", sheet_name='thyroid0387_UCI')\n"
   ]
  },
  {
   "cell_type": "code",
   "execution_count": 32,
   "id": "9d4fded9-7dfd-4f40-ad25-e2041ef7e34a",
   "metadata": {},
   "outputs": [
    {
     "name": "stdout",
     "output_type": "stream",
     "text": [
      "Numeric Columns: Index(['Record ID', 'age'], dtype='object')\n",
      "\n",
      "Categorical Columns: Index(['sex', 'on thyroxine', 'query on thyroxine',\n",
      "       'on antithyroid medication', 'sick', 'pregnant', 'thyroid surgery',\n",
      "       'I131 treatment', 'query hypothyroid', 'query hyperthyroid', 'lithium',\n",
      "       'goitre', 'tumor', 'hypopituitary', 'psych', 'TSH measured', 'TSH',\n",
      "       'T3 measured', 'T3', 'TT4 measured', 'TT4', 'T4U measured', 'T4U',\n",
      "       'FTI measured', 'FTI', 'TBG measured', 'TBG', 'referral source',\n",
      "       'Condition'],\n",
      "      dtype='object')\n"
     ]
    }
   ],
   "source": [
    "numeric_columns = thyroid_df.select_dtypes(include=['number']).columns\n",
    "categorical_columns = thyroid_df.select_dtypes(include=['object']).columns\n",
    "\n",
    "print(\"Numeric Columns:\", numeric_columns)\n",
    "print()\n",
    "print(\"Categorical Columns:\", categorical_columns)"
   ]
  },
  {
   "cell_type": "code",
   "execution_count": 33,
   "id": "2ac96760-dc7c-4a07-bf79-06e26e28fccc",
   "metadata": {},
   "outputs": [
    {
     "name": "stderr",
     "output_type": "stream",
     "text": [
      "C:\\Users\\yadav\\AppData\\Local\\Temp\\ipykernel_14196\\1398544354.py:1: FutureWarning: Downcasting behavior in `replace` is deprecated and will be removed in a future version. To retain the old behavior, explicitly call `result.infer_objects(copy=False)`. To opt-in to the future behavior, set `pd.set_option('future.no_silent_downcasting', True)`\n",
      "  thyroid_df.replace(\"?\",np.nan,inplace = True)\n"
     ]
    }
   ],
   "source": [
    "thyroid_df.replace(\"?\",np.nan,inplace = True)"
   ]
  },
  {
   "cell_type": "code",
   "execution_count": 34,
   "id": "7d9ac2a7-0fa4-4c48-a2d0-0023c961a89e",
   "metadata": {},
   "outputs": [
    {
     "data": {
      "text/html": [
       "<div>\n",
       "<style scoped>\n",
       "    .dataframe tbody tr th:only-of-type {\n",
       "        vertical-align: middle;\n",
       "    }\n",
       "\n",
       "    .dataframe tbody tr th {\n",
       "        vertical-align: top;\n",
       "    }\n",
       "\n",
       "    .dataframe thead th {\n",
       "        text-align: right;\n",
       "    }\n",
       "</style>\n",
       "<table border=\"1\" class=\"dataframe\">\n",
       "  <thead>\n",
       "    <tr style=\"text-align: right;\">\n",
       "      <th></th>\n",
       "      <th>Record ID</th>\n",
       "      <th>age</th>\n",
       "      <th>TSH</th>\n",
       "      <th>T3</th>\n",
       "      <th>TT4</th>\n",
       "      <th>T4U</th>\n",
       "      <th>FTI</th>\n",
       "      <th>TBG</th>\n",
       "    </tr>\n",
       "  </thead>\n",
       "  <tbody>\n",
       "    <tr>\n",
       "      <th>0</th>\n",
       "      <td>840801013</td>\n",
       "      <td>29</td>\n",
       "      <td>0.3</td>\n",
       "      <td>NaN</td>\n",
       "      <td>NaN</td>\n",
       "      <td>NaN</td>\n",
       "      <td>NaN</td>\n",
       "      <td>NaN</td>\n",
       "    </tr>\n",
       "    <tr>\n",
       "      <th>1</th>\n",
       "      <td>840801014</td>\n",
       "      <td>29</td>\n",
       "      <td>1.6</td>\n",
       "      <td>1.9</td>\n",
       "      <td>128.0</td>\n",
       "      <td>NaN</td>\n",
       "      <td>NaN</td>\n",
       "      <td>NaN</td>\n",
       "    </tr>\n",
       "    <tr>\n",
       "      <th>2</th>\n",
       "      <td>840801042</td>\n",
       "      <td>41</td>\n",
       "      <td>NaN</td>\n",
       "      <td>NaN</td>\n",
       "      <td>NaN</td>\n",
       "      <td>NaN</td>\n",
       "      <td>NaN</td>\n",
       "      <td>11.0</td>\n",
       "    </tr>\n",
       "    <tr>\n",
       "      <th>3</th>\n",
       "      <td>840803046</td>\n",
       "      <td>36</td>\n",
       "      <td>NaN</td>\n",
       "      <td>NaN</td>\n",
       "      <td>NaN</td>\n",
       "      <td>NaN</td>\n",
       "      <td>NaN</td>\n",
       "      <td>26.0</td>\n",
       "    </tr>\n",
       "    <tr>\n",
       "      <th>4</th>\n",
       "      <td>840803047</td>\n",
       "      <td>32</td>\n",
       "      <td>NaN</td>\n",
       "      <td>NaN</td>\n",
       "      <td>NaN</td>\n",
       "      <td>NaN</td>\n",
       "      <td>NaN</td>\n",
       "      <td>36.0</td>\n",
       "    </tr>\n",
       "  </tbody>\n",
       "</table>\n",
       "</div>"
      ],
      "text/plain": [
       "   Record ID  age  TSH   T3    TT4  T4U  FTI   TBG\n",
       "0  840801013   29  0.3  NaN    NaN  NaN  NaN   NaN\n",
       "1  840801014   29  1.6  1.9  128.0  NaN  NaN   NaN\n",
       "2  840801042   41  NaN  NaN    NaN  NaN  NaN  11.0\n",
       "3  840803046   36  NaN  NaN    NaN  NaN  NaN  26.0\n",
       "4  840803047   32  NaN  NaN    NaN  NaN  NaN  36.0"
      ]
     },
     "execution_count": 34,
     "metadata": {},
     "output_type": "execute_result"
    }
   ],
   "source": [
    "numeric_df = thyroid_df.select_dtypes(include=['number'])\n",
    "numeric_df.head()"
   ]
  },
  {
   "cell_type": "code",
   "execution_count": 35,
   "id": "a203491f-09a2-43d3-9ecd-4e69313a6f2d",
   "metadata": {},
   "outputs": [],
   "source": [
    "#• Study the data range for numeric variables.\n",
    "\n",
    "def getrange_emptycount(colname):\n",
    "    print(colname,\"range:\", numeric_df[colname].max() - numeric_df[colname].min())\n",
    "    print(colname,\"emptycount:\",numeric_df[colname].isnull().sum(),\"\\n\")"
   ]
  },
  {
   "cell_type": "code",
   "execution_count": 36,
   "id": "e2775783-5e59-4092-a2c7-1fdf03821d1e",
   "metadata": {},
   "outputs": [
    {
     "name": "stdout",
     "output_type": "stream",
     "text": [
      "Record ID range: 29318022\n",
      "Record ID emptycount: 0 \n",
      "\n",
      "age range: 65525\n",
      "age emptycount: 0 \n",
      "\n",
      "TSH range: 529.995\n",
      "TSH emptycount: 842 \n",
      "\n",
      "T3 range: 17.95\n",
      "T3 emptycount: 2604 \n",
      "\n",
      "TT4 range: 598.0\n",
      "TT4 emptycount: 442 \n",
      "\n",
      "T4U range: 2.16\n",
      "T4U emptycount: 809 \n",
      "\n",
      "FTI range: 879.6\n",
      "FTI emptycount: 802 \n",
      "\n",
      "TBG range: 199.9\n",
      "TBG emptycount: 8823 \n",
      "\n"
     ]
    }
   ],
   "source": [
    "for column in numeric_df.columns:\n",
    "    getrange_emptycount(column)"
   ]
  },
  {
   "cell_type": "code",
   "execution_count": 37,
   "id": "5b5ad0f0-d35e-4908-8680-633f2eff4395",
   "metadata": {},
   "outputs": [
    {
     "data": {
      "image/png": "[encoded data removed]",
      "text/plain": [
       "<Figure size 1000x200 with 1 Axes>"
      ]
     },
     "metadata": {},
     "output_type": "display_data"
    },
    {
     "data": {
      "image/png": "[encoded data removed]",
      "text/plain": [
       "<Figure size 1000x200 with 1 Axes>"
      ]
     },
     "metadata": {},
     "output_type": "display_data"
    },
    {
     "data": {
      "image/png": "[encoded data removed]",
      "text/plain": [
       "<Figure size 1000x200 with 1 Axes>"
      ]
     },
     "metadata": {},
     "output_type": "display_data"
    },
    {
     "data": {
      "image/png": "[encoded data removed]",
      "text/plain": [
       "<Figure size 1000x200 with 1 Axes>"
      ]
     },
     "metadata": {},
     "output_type": "display_data"
    },
    {
     "data": {
      "image/png": "[encoded data removed]",
      "text/plain": [
       "<Figure size 1000x200 with 1 Axes>"
      ]
     },
     "metadata": {},
     "output_type": "display_data"
    },
    {
     "data": {
      "image/png": "[encoded data removed]",
      "text/plain": [
       "<Figure size 1000x200 with 1 Axes>"
      ]
     },
     "metadata": {},
     "output_type": "display_data"
    },
    {
     "data": {
      "image/png": "[encoded data removed]",
      "text/plain": [
       "<Figure size 1000x200 with 1 Axes>"
      ]
     },
     "metadata": {},
     "output_type": "display_data"
    },
    {
     "data": {
      "image/png": "[encoded data removed]",
      "text/plain": [
       "<Figure size 1000x200 with 1 Axes>"
      ]
     },
     "metadata": {},
     "output_type": "display_data"
    }
   ],
   "source": [
    "#• Study presence of outliers in data. \n",
    "\n",
    "for column in numeric_df:\n",
    "    plt.figure(figsize=(10, 2))\n",
    "    plt.boxplot(thyroid_df[column].dropna(), vert=False)\n",
    "    plt.title(f\"Boxplot of {column}\")\n",
    "    plt.show()"
   ]
  },
  {
   "cell_type": "code",
   "execution_count": 38,
   "id": "eadbdaae-2d28-40ab-8251-d49208e17a90",
   "metadata": {},
   "outputs": [],
   "source": [
    "#• For numeric variables, calculate the mean and variance (or standard deviation).\n",
    "\n",
    "def mean_variance(column):\n",
    "    print(column,\"\\nmean:\",numeric_df[column].mean(),\"\\nvariance:\",numeric_df[column].var(),\"\\n\")"
   ]
  },
  {
   "cell_type": "code",
   "execution_count": 39,
   "id": "33681ec1-36b1-41bb-abc7-0c1a3ea8125b",
   "metadata": {},
   "outputs": [
    {
     "name": "stdout",
     "output_type": "stream",
     "text": [
      "Record ID \n",
      "mean: 852947346.6122983 \n",
      "variance: 57486250586150.34 \n",
      "\n",
      "age \n",
      "mean: 73.55582206716092 \n",
      "variance: 1401800.8688713463 \n",
      "\n",
      "TSH \n",
      "mean: 5.218402753781513 \n",
      "variance: 584.866153209295 \n",
      "\n",
      "T3 \n",
      "mean: 1.970628805724726 \n",
      "variance: 0.7877961683561565 \n",
      "\n",
      "TT4 \n",
      "mean: 108.70030469644902 \n",
      "variance: 1407.950791475491 \n",
      "\n",
      "T4U \n",
      "mean: 0.9760557216309935 \n",
      "variance: 0.04014430639006391 \n",
      "\n",
      "FTI \n",
      "mean: 113.64074551935484 \n",
      "variance: 1726.539585061158 \n",
      "\n",
      "TBG \n",
      "mean: 29.87005729512894 \n",
      "variance: 444.38764299946627 \n",
      "\n"
     ]
    }
   ],
   "source": [
    "for column in numeric_df.columns:\n",
    "    mean_variance(column)"
   ]
  },
  {
   "cell_type": "markdown",
   "id": "9796daf4-1dc2-4941-b5f7-3db6bf5e33e5",
   "metadata": {},
   "source": [
    "***employ appropriate central tendencies to fill the missing values in the data \n",
    "variables. Employ following guidance.\n",
    "• Mean may be used when the attribute is numeric with no outliers\n",
    "• Median may be employed for attributes which are numeric and contain outliers\n",
    "• Mode may be employed for categorical attributes***"
   ]
  },
  {
   "cell_type": "code",
   "execution_count": 41,
   "id": "56fec632-5a6e-4812-b98d-c3d637b0df30",
   "metadata": {},
   "outputs": [],
   "source": [
    "#outlier presence\n",
    "def check_present(df,column):\n",
    "    q1 = df[column].quantile(0.25)\n",
    "    q3 = df[column].quantile(0.75)\n",
    "    iqr = q3 - q1\n",
    "    bound1 = q1-1.5*iqr\n",
    "    bound2 = q3+1.5*iqr\n",
    "    val =len(df[ (df[column]<bound1) | (df[column]>bound2) ])\n",
    "    if val == 0:\n",
    "        return False\n",
    "    else:\n",
    "        return True"
   ]
  },
  {
   "cell_type": "code",
   "execution_count": 69,
   "id": "324527f6-66b7-40aa-9f10-d983a7c2833d",
   "metadata": {},
   "outputs": [
    {
     "data": {
      "text/html": [
       "<div>\n",
       "<style scoped>\n",
       "    .dataframe tbody tr th:only-of-type {\n",
       "        vertical-align: middle;\n",
       "    }\n",
       "\n",
       "    .dataframe tbody tr th {\n",
       "        vertical-align: top;\n",
       "    }\n",
       "\n",
       "    .dataframe thead th {\n",
       "        text-align: right;\n",
       "    }\n",
       "</style>\n",
       "<table border=\"1\" class=\"dataframe\">\n",
       "  <thead>\n",
       "    <tr style=\"text-align: right;\">\n",
       "      <th></th>\n",
       "      <th>Record ID</th>\n",
       "      <th>age</th>\n",
       "      <th>sex</th>\n",
       "      <th>on thyroxine</th>\n",
       "      <th>query on thyroxine</th>\n",
       "      <th>on antithyroid medication</th>\n",
       "      <th>sick</th>\n",
       "      <th>pregnant</th>\n",
       "      <th>thyroid surgery</th>\n",
       "      <th>I131 treatment</th>\n",
       "      <th>...</th>\n",
       "      <th>TT4 measured</th>\n",
       "      <th>TT4</th>\n",
       "      <th>T4U measured</th>\n",
       "      <th>T4U</th>\n",
       "      <th>FTI measured</th>\n",
       "      <th>FTI</th>\n",
       "      <th>TBG measured</th>\n",
       "      <th>TBG</th>\n",
       "      <th>referral source</th>\n",
       "      <th>Condition</th>\n",
       "    </tr>\n",
       "  </thead>\n",
       "  <tbody>\n",
       "    <tr>\n",
       "      <th>0</th>\n",
       "      <td>840801013</td>\n",
       "      <td>29</td>\n",
       "      <td>F</td>\n",
       "      <td>f</td>\n",
       "      <td>f</td>\n",
       "      <td>f</td>\n",
       "      <td>f</td>\n",
       "      <td>f</td>\n",
       "      <td>f</td>\n",
       "      <td>f</td>\n",
       "      <td>...</td>\n",
       "      <td>f</td>\n",
       "      <td>104.0</td>\n",
       "      <td>f</td>\n",
       "      <td>0.96</td>\n",
       "      <td>f</td>\n",
       "      <td>109.0</td>\n",
       "      <td>f</td>\n",
       "      <td>26.0</td>\n",
       "      <td>other</td>\n",
       "      <td>NO CONDITION</td>\n",
       "    </tr>\n",
       "    <tr>\n",
       "      <th>1</th>\n",
       "      <td>840801014</td>\n",
       "      <td>29</td>\n",
       "      <td>F</td>\n",
       "      <td>f</td>\n",
       "      <td>f</td>\n",
       "      <td>f</td>\n",
       "      <td>f</td>\n",
       "      <td>f</td>\n",
       "      <td>f</td>\n",
       "      <td>f</td>\n",
       "      <td>...</td>\n",
       "      <td>t</td>\n",
       "      <td>128.0</td>\n",
       "      <td>f</td>\n",
       "      <td>0.96</td>\n",
       "      <td>f</td>\n",
       "      <td>109.0</td>\n",
       "      <td>f</td>\n",
       "      <td>26.0</td>\n",
       "      <td>other</td>\n",
       "      <td>NO CONDITION</td>\n",
       "    </tr>\n",
       "    <tr>\n",
       "      <th>2</th>\n",
       "      <td>840801042</td>\n",
       "      <td>41</td>\n",
       "      <td>F</td>\n",
       "      <td>f</td>\n",
       "      <td>f</td>\n",
       "      <td>f</td>\n",
       "      <td>f</td>\n",
       "      <td>f</td>\n",
       "      <td>f</td>\n",
       "      <td>f</td>\n",
       "      <td>...</td>\n",
       "      <td>f</td>\n",
       "      <td>104.0</td>\n",
       "      <td>f</td>\n",
       "      <td>0.96</td>\n",
       "      <td>f</td>\n",
       "      <td>109.0</td>\n",
       "      <td>t</td>\n",
       "      <td>11.0</td>\n",
       "      <td>other</td>\n",
       "      <td>NO CONDITION</td>\n",
       "    </tr>\n",
       "    <tr>\n",
       "      <th>3</th>\n",
       "      <td>840803046</td>\n",
       "      <td>36</td>\n",
       "      <td>F</td>\n",
       "      <td>f</td>\n",
       "      <td>f</td>\n",
       "      <td>f</td>\n",
       "      <td>f</td>\n",
       "      <td>f</td>\n",
       "      <td>f</td>\n",
       "      <td>f</td>\n",
       "      <td>...</td>\n",
       "      <td>f</td>\n",
       "      <td>104.0</td>\n",
       "      <td>f</td>\n",
       "      <td>0.96</td>\n",
       "      <td>f</td>\n",
       "      <td>109.0</td>\n",
       "      <td>t</td>\n",
       "      <td>26.0</td>\n",
       "      <td>other</td>\n",
       "      <td>NO CONDITION</td>\n",
       "    </tr>\n",
       "    <tr>\n",
       "      <th>4</th>\n",
       "      <td>840803047</td>\n",
       "      <td>32</td>\n",
       "      <td>F</td>\n",
       "      <td>f</td>\n",
       "      <td>f</td>\n",
       "      <td>f</td>\n",
       "      <td>f</td>\n",
       "      <td>f</td>\n",
       "      <td>f</td>\n",
       "      <td>f</td>\n",
       "      <td>...</td>\n",
       "      <td>f</td>\n",
       "      <td>104.0</td>\n",
       "      <td>f</td>\n",
       "      <td>0.96</td>\n",
       "      <td>f</td>\n",
       "      <td>109.0</td>\n",
       "      <td>t</td>\n",
       "      <td>36.0</td>\n",
       "      <td>other</td>\n",
       "      <td>S</td>\n",
       "    </tr>\n",
       "  </tbody>\n",
       "</table>\n",
       "<p>5 rows × 31 columns</p>\n",
       "</div>"
      ],
      "text/plain": [
       "   Record ID  age sex on thyroxine query on thyroxine  \\\n",
       "0  840801013   29   F            f                  f   \n",
       "1  840801014   29   F            f                  f   \n",
       "2  840801042   41   F            f                  f   \n",
       "3  840803046   36   F            f                  f   \n",
       "4  840803047   32   F            f                  f   \n",
       "\n",
       "  on antithyroid medication sick pregnant thyroid surgery I131 treatment  ...  \\\n",
       "0                         f    f        f               f              f  ...   \n",
       "1                         f    f        f               f              f  ...   \n",
       "2                         f    f        f               f              f  ...   \n",
       "3                         f    f        f               f              f  ...   \n",
       "4                         f    f        f               f              f  ...   \n",
       "\n",
       "  TT4 measured    TT4 T4U measured   T4U FTI measured    FTI TBG measured  \\\n",
       "0            f  104.0            f  0.96            f  109.0            f   \n",
       "1            t  128.0            f  0.96            f  109.0            f   \n",
       "2            f  104.0            f  0.96            f  109.0            t   \n",
       "3            f  104.0            f  0.96            f  109.0            t   \n",
       "4            f  104.0            f  0.96            f  109.0            t   \n",
       "\n",
       "    TBG  referral source     Condition  \n",
       "0  26.0            other  NO CONDITION  \n",
       "1  26.0            other  NO CONDITION  \n",
       "2  11.0            other  NO CONDITION  \n",
       "3  26.0            other  NO CONDITION  \n",
       "4  36.0            other             S  \n",
       "\n",
       "[5 rows x 31 columns]"
      ]
     },
     "execution_count": 69,
     "metadata": {},
     "output_type": "execute_result"
    }
   ],
   "source": [
    "\n",
    "for column in thyroid_df.columns:\n",
    "    if thyroid_df[column].isnull().sum() > 0:\n",
    "        if thyroid_df[column].dtype == 'object':\n",
    "            thyroid_df[column].fillna(thyroid_df[column].mode()[0], inplace=True)\n",
    "        else:\n",
    "            if check_present(thyroid_df, column):  # assuming outliers present if unique values > 10\n",
    "                thyroid_df[column].fillna(thyroid_df[column].median(), inplace=True)\n",
    "            else:\n",
    "                thyroid_df[column].fillna(thyroid_df[column].mean(), inplace=True)\n",
    "thyroid_df.head()"
   ]
  },
  {
   "cell_type": "markdown",
   "id": "2d0322ab-a156-4375-b18f-0f6aeaaec6a7",
   "metadata": {},
   "source": [
    "***Data Normalization / Scaling: from the data study, identify the attributes which may need \n",
    "normalization. Employ appropriate normalization techniques to create normalized set of data***"
   ]
  },
  {
   "cell_type": "code",
   "execution_count": 44,
   "id": "0e2b34fb-2612-470d-a86e-6a7b4222b999",
   "metadata": {},
   "outputs": [
    {
     "data": {
      "text/html": [
       "<div>\n",
       "<style scoped>\n",
       "    .dataframe tbody tr th:only-of-type {\n",
       "        vertical-align: middle;\n",
       "    }\n",
       "\n",
       "    .dataframe tbody tr th {\n",
       "        vertical-align: top;\n",
       "    }\n",
       "\n",
       "    .dataframe thead th {\n",
       "        text-align: right;\n",
       "    }\n",
       "</style>\n",
       "<table border=\"1\" class=\"dataframe\">\n",
       "  <thead>\n",
       "    <tr style=\"text-align: right;\">\n",
       "      <th></th>\n",
       "      <th>Record ID</th>\n",
       "      <th>age</th>\n",
       "      <th>sex</th>\n",
       "      <th>on thyroxine</th>\n",
       "      <th>query on thyroxine</th>\n",
       "      <th>on antithyroid medication</th>\n",
       "      <th>sick</th>\n",
       "      <th>pregnant</th>\n",
       "      <th>thyroid surgery</th>\n",
       "      <th>I131 treatment</th>\n",
       "      <th>...</th>\n",
       "      <th>TT4 measured</th>\n",
       "      <th>TT4</th>\n",
       "      <th>T4U measured</th>\n",
       "      <th>T4U</th>\n",
       "      <th>FTI measured</th>\n",
       "      <th>FTI</th>\n",
       "      <th>TBG measured</th>\n",
       "      <th>TBG</th>\n",
       "      <th>referral source</th>\n",
       "      <th>Condition</th>\n",
       "    </tr>\n",
       "  </thead>\n",
       "  <tbody>\n",
       "    <tr>\n",
       "      <th>0</th>\n",
       "      <td>0.000000e+00</td>\n",
       "      <td>0.000427</td>\n",
       "      <td>F</td>\n",
       "      <td>f</td>\n",
       "      <td>f</td>\n",
       "      <td>f</td>\n",
       "      <td>f</td>\n",
       "      <td>f</td>\n",
       "      <td>f</td>\n",
       "      <td>f</td>\n",
       "      <td>...</td>\n",
       "      <td>f</td>\n",
       "      <td>0.170569</td>\n",
       "      <td>f</td>\n",
       "      <td>0.365741</td>\n",
       "      <td>f</td>\n",
       "      <td>0.122328</td>\n",
       "      <td>f</td>\n",
       "      <td>0.129565</td>\n",
       "      <td>other</td>\n",
       "      <td>NO CONDITION</td>\n",
       "    </tr>\n",
       "    <tr>\n",
       "      <th>1</th>\n",
       "      <td>3.410871e-08</td>\n",
       "      <td>0.000427</td>\n",
       "      <td>F</td>\n",
       "      <td>f</td>\n",
       "      <td>f</td>\n",
       "      <td>f</td>\n",
       "      <td>f</td>\n",
       "      <td>f</td>\n",
       "      <td>f</td>\n",
       "      <td>f</td>\n",
       "      <td>...</td>\n",
       "      <td>t</td>\n",
       "      <td>0.210702</td>\n",
       "      <td>f</td>\n",
       "      <td>0.365741</td>\n",
       "      <td>f</td>\n",
       "      <td>0.122328</td>\n",
       "      <td>f</td>\n",
       "      <td>0.129565</td>\n",
       "      <td>other</td>\n",
       "      <td>NO CONDITION</td>\n",
       "    </tr>\n",
       "    <tr>\n",
       "      <th>2</th>\n",
       "      <td>9.891527e-07</td>\n",
       "      <td>0.000610</td>\n",
       "      <td>F</td>\n",
       "      <td>f</td>\n",
       "      <td>f</td>\n",
       "      <td>f</td>\n",
       "      <td>f</td>\n",
       "      <td>f</td>\n",
       "      <td>f</td>\n",
       "      <td>f</td>\n",
       "      <td>...</td>\n",
       "      <td>f</td>\n",
       "      <td>0.170569</td>\n",
       "      <td>f</td>\n",
       "      <td>0.365741</td>\n",
       "      <td>f</td>\n",
       "      <td>0.122328</td>\n",
       "      <td>t</td>\n",
       "      <td>0.054527</td>\n",
       "      <td>other</td>\n",
       "      <td>NO CONDITION</td>\n",
       "    </tr>\n",
       "    <tr>\n",
       "      <th>3</th>\n",
       "      <td>6.934301e-05</td>\n",
       "      <td>0.000534</td>\n",
       "      <td>F</td>\n",
       "      <td>f</td>\n",
       "      <td>f</td>\n",
       "      <td>f</td>\n",
       "      <td>f</td>\n",
       "      <td>f</td>\n",
       "      <td>f</td>\n",
       "      <td>f</td>\n",
       "      <td>...</td>\n",
       "      <td>f</td>\n",
       "      <td>0.170569</td>\n",
       "      <td>f</td>\n",
       "      <td>0.365741</td>\n",
       "      <td>f</td>\n",
       "      <td>0.122328</td>\n",
       "      <td>t</td>\n",
       "      <td>0.129565</td>\n",
       "      <td>other</td>\n",
       "      <td>NO CONDITION</td>\n",
       "    </tr>\n",
       "    <tr>\n",
       "      <th>4</th>\n",
       "      <td>6.937712e-05</td>\n",
       "      <td>0.000473</td>\n",
       "      <td>F</td>\n",
       "      <td>f</td>\n",
       "      <td>f</td>\n",
       "      <td>f</td>\n",
       "      <td>f</td>\n",
       "      <td>f</td>\n",
       "      <td>f</td>\n",
       "      <td>f</td>\n",
       "      <td>...</td>\n",
       "      <td>f</td>\n",
       "      <td>0.170569</td>\n",
       "      <td>f</td>\n",
       "      <td>0.365741</td>\n",
       "      <td>f</td>\n",
       "      <td>0.122328</td>\n",
       "      <td>t</td>\n",
       "      <td>0.179590</td>\n",
       "      <td>other</td>\n",
       "      <td>S</td>\n",
       "    </tr>\n",
       "  </tbody>\n",
       "</table>\n",
       "<p>5 rows × 31 columns</p>\n",
       "</div>"
      ],
      "text/plain": [
       "      Record ID       age sex on thyroxine query on thyroxine  \\\n",
       "0  0.000000e+00  0.000427   F            f                  f   \n",
       "1  3.410871e-08  0.000427   F            f                  f   \n",
       "2  9.891527e-07  0.000610   F            f                  f   \n",
       "3  6.934301e-05  0.000534   F            f                  f   \n",
       "4  6.937712e-05  0.000473   F            f                  f   \n",
       "\n",
       "  on antithyroid medication sick pregnant thyroid surgery I131 treatment  ...  \\\n",
       "0                         f    f        f               f              f  ...   \n",
       "1                         f    f        f               f              f  ...   \n",
       "2                         f    f        f               f              f  ...   \n",
       "3                         f    f        f               f              f  ...   \n",
       "4                         f    f        f               f              f  ...   \n",
       "\n",
       "  TT4 measured       TT4 T4U measured       T4U FTI measured       FTI  \\\n",
       "0            f  0.170569            f  0.365741            f  0.122328   \n",
       "1            t  0.210702            f  0.365741            f  0.122328   \n",
       "2            f  0.170569            f  0.365741            f  0.122328   \n",
       "3            f  0.170569            f  0.365741            f  0.122328   \n",
       "4            f  0.170569            f  0.365741            f  0.122328   \n",
       "\n",
       "  TBG measured       TBG  referral source     Condition  \n",
       "0            f  0.129565            other  NO CONDITION  \n",
       "1            f  0.129565            other  NO CONDITION  \n",
       "2            t  0.054527            other  NO CONDITION  \n",
       "3            t  0.129565            other  NO CONDITION  \n",
       "4            t  0.179590            other             S  \n",
       "\n",
       "[5 rows x 31 columns]"
      ]
     },
     "execution_count": 44,
     "metadata": {},
     "output_type": "execute_result"
    }
   ],
   "source": [
    "def normalize(df,column):\n",
    "    min_val = np.min(df[column])\n",
    "    max_val = np.max(df[column])\n",
    "    normalized_column = [(x - min_val) / (max_val - min_val) for x in df[column]]\n",
    "    return normalized_column\n",
    "\n",
    "numeric_columns = thyroid_df.select_dtypes(include=['number']).columns\n",
    "# Normalize each numeric column\n",
    "normalized_data = thyroid_df.copy()\n",
    "for column in numeric_columns:\n",
    "    normalized_data[column] = normalize(normalized_data,column)\n",
    "\n",
    "# Display normalized data (or specific normalized columns)\n",
    "normalized_data.head()"
   ]
  },
  {
   "cell_type": "markdown",
   "id": "11f9fe33-24f7-448d-86a7-2e7f481f7178",
   "metadata": {},
   "source": [
    "***Similarity Measure: Take the first 2 observation vectors from the dataset. Consider only the \n",
    "attributes (direct or derived) with binary values for these vectors (ignore other attributes). Calculate \n",
    "the Jaccard Coefficient (JC) and Simple Matching Coefficient (SMC) between the document vectors. \n",
    "Use first vector for each document for this. Compare the values for JC and SMC and judge the \n",
    "appropriateness of each of them.***"
   ]
  },
  {
   "cell_type": "code",
   "execution_count": 46,
   "id": "d961db51-78b5-4bbd-82ad-ba4048043884",
   "metadata": {},
   "outputs": [
    {
     "name": "stdout",
     "output_type": "stream",
     "text": [
      "Jacard Coefficient is :  0.25\n",
      "Simple Matching Coefficient is :  0.8571428571428571\n"
     ]
    }
   ],
   "source": [
    "#accessing two observation\n",
    "binary_att = []\n",
    "for column in thyroid_df.columns:\n",
    "    if(len(pd.unique(thyroid_df[column])) == 2):\n",
    "        binary_att.append(column)\n",
    "\n",
    "binary_df = thyroid_df[binary_att]\n",
    "\n",
    "for column in binary_df.columns:\n",
    "    unilist1 = pd.unique(binary_df[column])\n",
    "    unilist1.sort()\n",
    "    newcolumn = [False if x == unilist1[0] else True for x in binary_df[column]]\n",
    "    binary_df.loc[:,column] = newcolumn\n",
    "\n",
    "\n",
    "vec1 = binary_df.iloc[0]\n",
    "vec2 = binary_df.iloc[1]\n",
    "\n",
    "vec = vec1 & vec2\n",
    "f11 = sum(vec)\n",
    "f01_f10 = sum(vec1 ^ vec2)\n",
    "f00 = sum(~(vec1 | vec2))\n",
    "JC = f11 / (f01_f10 + f11)\n",
    "SMC = (f11+f00) / (f01_f10 + f11 + f00)\n",
    "print(\"Jacard Coefficient is : \", JC)\n",
    "print(\"Simple Matching Coefficient is : \", SMC)"
   ]
  },
  {
   "cell_type": "markdown",
   "id": "6ea47d08-e376-4267-a547-c11144fa381a",
   "metadata": {},
   "source": [
    "***Cosine Similarity Measure: Now take the complete vectors for these two observations (including \n",
    "all the attributes). Calculate the Cosine similarity between the documents by using the second \n",
    "feature vector for each document.***"
   ]
  },
  {
   "cell_type": "code",
   "execution_count": 51,
   "id": "065a8f25-bf0f-48da-93db-07412d7ea8de",
   "metadata": {},
   "outputs": [
    {
     "name": "stdout",
     "output_type": "stream",
     "text": [
      "cosine similarity measure: 0.4548200422912813\n"
     ]
    },
    {
     "name": "stderr",
     "output_type": "stream",
     "text": [
      "C:\\Users\\yadav\\AppData\\Local\\Temp\\ipykernel_14196\\27138102.py:6: SettingWithCopyWarning: \n",
      "A value is trying to be set on a copy of a slice from a DataFrame\n",
      "\n",
      "See the caveats in the documentation: https://pandas.pydata.org/pandas-docs/stable/user_guide/indexing.html#returning-a-view-versus-a-copy\n",
      "  v1[x] = 1 if vec1[x]== True else 0\n",
      "C:\\Users\\yadav\\AppData\\Local\\Temp\\ipykernel_14196\\27138102.py:7: SettingWithCopyWarning: \n",
      "A value is trying to be set on a copy of a slice from a DataFrame\n",
      "\n",
      "See the caveats in the documentation: https://pandas.pydata.org/pandas-docs/stable/user_guide/indexing.html#returning-a-view-versus-a-copy\n",
      "  v2[x] = 1 if vec2[x]== True else 0\n"
     ]
    }
   ],
   "source": [
    "import math\n",
    "v1 = normalized_data.iloc[0]\n",
    "v2 = normalized_data.iloc[1]\n",
    "\n",
    "for x in vec1.index:\n",
    "    v1[x] = 1 if vec1[x]== True else 0\n",
    "    v2[x] = 1 if vec2[x]== True else 0\n",
    "v1 = v1[1:-2]\n",
    "v2 = v2[1:-2]\n",
    "def cosine_similarity(v1,v2):\n",
    "    dot_pro = sum([x*y for x,y in zip(v1,v2)])\n",
    "    magv1 = getlen(v1)\n",
    "    magv2 = getlen(v2)\n",
    "    return dot_pro/(magv1*magv2)\n",
    "def getlen(v):\n",
    "    magv = math.sqrt(sum([x**2 for x in v]))\n",
    "    return magv\n",
    "\n",
    "print(\"cosine similarity measure:\",cosine_similarity(v1,v2))"
   ]
  },
  {
   "cell_type": "markdown",
   "id": "811d273d-5cfe-4198-a952-a57b498723b9",
   "metadata": {},
   "source": [
    "***Heatmap Plot: Consider the first 20 observation vectors. Calculate the JC, SMC and COS \n",
    "between the pairs of vectors for these 20 vectors. Employ similar strategies for coefficient \n",
    "calculation as in A4 & A5. Employ a heatmap plot to visualize the similarities.***"
   ]
  },
  {
   "cell_type": "code",
   "execution_count": 73,
   "id": "d815ebb0-9793-4320-888f-088e12bd1ac0",
   "metadata": {},
   "outputs": [
    {
     "data": {
      "image/png": "[encoded data removed]",
      "text/plain": [
       "<Figure size 640x480 with 2 Axes>"
      ]
     },
     "metadata": {},
     "output_type": "display_data"
    },
    {
     "data": {
      "image/png": "[encoded data removed]",
      "text/plain": [
       "<Figure size 640x480 with 2 Axes>"
      ]
     },
     "metadata": {},
     "output_type": "display_data"
    },
    {
     "data": {
      "image/png": "[encoded data removed]",
      "text/plain": [
       "<Figure size 640x480 with 2 Axes>"
      ]
     },
     "metadata": {},
     "output_type": "display_data"
    }
   ],
   "source": [
    "import seaborn as sns\n",
    "# We are now going to calculate JC, SMC, and COS for the first 20 observation vectors\n",
    "\n",
    "# Select the first 20 observations\n",
    "subset_data = thyroid_df.iloc[:20,1:-2]\n",
    "\n",
    "for i in range (0,20):\n",
    "    for column in binary_df.columns:\n",
    "        subset_data.loc[i,column] = 1 if binary_df.loc[i,column] == True else 0\n",
    "\n",
    "# Initialize matrices for JC, SMC, and Cosine Similarity\n",
    "jc_matrix = np.zeros((20, len(subset_data.columns)))\n",
    "smc_matrix = np.zeros((20, len(subset_data.columns)))\n",
    "cos_matrix = np.zeros((20, len(subset_data.columns)))\n",
    "\n",
    "# Calculate JC, SMC, and COS for each pair of vectors\n",
    "for i in range(20):\n",
    "    for j in range(i, 20):\n",
    "        vec1 = subset_data.loc[i,binary_att]\n",
    "        vec2 = subset_data.loc[j,binary_att]\n",
    "        \n",
    "        # JC Calculation\n",
    "        f11 = sum(vec1 & vec2)\n",
    "        f01_f10 = sum( vec1 ^ vec2)\n",
    "\n",
    "        \n",
    "        denominator_jc = (f01_f10 + f11)\n",
    "        if denominator_jc == 0:\n",
    "            jc_matrix[i, j] = jc_matrix[j, i] = 0  # Symmetric matrix\n",
    "        else:\n",
    "            jc_matrix[i, j] = jc_matrix[j, i] = f11 / denominator_jc  # Symmetric matrix\n",
    "        \n",
    "        # SMC Calculation\n",
    "        f00 = sum(~(vec1 | vec2))\n",
    "        \n",
    "        denominator_smc = (f00 + f01_f10 + f11)\n",
    "        if denominator_smc == 0:\n",
    "            smc_matrix[i, j] = smc_matrix[j, i] = 0  # Symmetric matrix\n",
    "        else:\n",
    "            smc_matrix[i, j] = smc_matrix[j, i] = (f11 + f00) / denominator_smc  # Symmetric matrix\n",
    "\n",
    "        vec1 = subset_data.iloc[i]\n",
    "        vec2 = subset_data.iloc[j]\n",
    "        # Cosine Similarity Calculation\n",
    "        cos_matrix[i, j] = cos_matrix[j, i] = cosine_similarity(vec1, vec2)  # Symmetric matrix\n",
    "\n",
    "        \n",
    "# Plot Heatmaps\n",
    "sns.heatmap(jc_matrix)\n",
    "plt.title('Jaccard Coefficient Heatmap')\n",
    "plt.show()\n",
    "\n",
    "sns.heatmap(smc_matrix)\n",
    "plt.title('Simple Matching Coefficient Heatmap')\n",
    "plt.show()\n",
    "\n",
    "sns.heatmap(cos_matrix)\n",
    "plt.title('Cosine Similarity Heatmap')\n",
    "plt.show()"
   ]
  },
  {
   "cell_type": "code",
   "execution_count": null,
   "id": "a34df265-5378-4733-8cfb-dc7a6d353e05",
   "metadata": {},
   "outputs": [],
   "source": []
  }
 ],
 "metadata": {
  "kernelspec": {
   "display_name": "Python 3 (ipykernel)",
   "language": "python",
   "name": "python3"
  },
  "language_info": {
   "codemirror_mode": {
    "name": "ipython",
    "version": 3
   },
   "file_extension": ".py",
   "mimetype": "text/x-python",
   "name": "python",
   "nbconvert_exporter": "python",
   "pygments_lexer": "ipython3",
   "version": "3.12.4"
  }
 },
 "nbformat": 4,
 "nbformat_minor": 5
}
