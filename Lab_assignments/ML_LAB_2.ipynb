{
 "cells": [
  {
   "cell_type": "code",
   "execution_count": 1,
   "id": "df9f2718-009d-4539-8ba7-b859c9a92bda",
   "metadata": {},
   "outputs": [],
   "source": [
    "import pandas as pd\n",
    "import numpy as np"
   ]
  },
  {
   "cell_type": "code",
   "execution_count": 2,
   "id": "76376808-2d71-4227-8af5-a9e33c75e6b7",
   "metadata": {},
   "outputs": [],
   "source": [
    "df = pd.read_excel(\"./Lab Session Data.xlsx\",sheet_name = None); #Loading complete sheet"
   ]
  },
  {
   "cell_type": "markdown",
   "id": "6169de98",
   "metadata": {},
   "source": [
    "**A1. Please refer to the “Purchase Data” worksheet of Lab Session Data.xlsx. Please load the data\n",
    "and segregate them into 2 matrices A & C (following the nomenclature of AX = C)**"
   ]
  },
  {
   "cell_type": "code",
   "execution_count": 3,
   "id": "a8697721-fc73-4524-990f-9cb2d3a37a7a",
   "metadata": {},
   "outputs": [
    {
     "name": "stdout",
     "output_type": "stream",
     "text": [
      "  Customer  Candies (#)  Mangoes (Kg)  Milk Packets (#)  Payment (Rs)\n",
      "0      C_1           20             6                 2           386\n",
      "1      C_2           16             3                 6           289\n",
      "2      C_3           27             6                 2           393\n",
      "3      C_4           19             1                 2           110\n",
      "4      C_5           24             4                 2           280\n",
      "5      C_6           22             1                 5           167\n",
      "6      C_7           15             4                 2           271\n",
      "7      C_8           18             4                 2           274\n",
      "8      C_9           21             1                 4           148\n",
      "9     C_10           16             2                 4           198\n",
      "value of A:\n",
      " [[20  6  2]\n",
      " [16  3  6]\n",
      " [27  6  2]\n",
      " [19  1  2]\n",
      " [24  4  2]\n",
      " [22  1  5]\n",
      " [15  4  2]\n",
      " [18  4  2]\n",
      " [21  1  4]\n",
      " [16  2  4]]\n",
      "value of C:\n",
      " [[386]\n",
      " [289]\n",
      " [393]\n",
      " [110]\n",
      " [280]\n",
      " [167]\n",
      " [271]\n",
      " [274]\n",
      " [148]\n",
      " [198]]\n"
     ]
    }
   ],
   "source": [
    "#defining segregating function\n",
    "pdata = df[\"Purchase data\"].iloc[:,0:5]\n",
    "def segregate():\n",
    "    print(pdata)\n",
    "    A = np.array(pdata.iloc[:,1:4]) #changing into matrix\n",
    "    C = np.array(pdata.iloc[:,4]) #changing into matrix\n",
    "    C = np.array(pdata.iloc[:,4])\n",
    "    s = C.shape[0] \n",
    "    C = C.reshape(s,1) #reshaping it to make form AX = C\n",
    "    return [A,C]\n",
    "[A,C] = segregate() #getting segregated data such that AX = C\n",
    "print(\"value of A:\\n\",A)\n",
    "print(\"value of C:\\n\",C)"
   ]
  },
  {
   "cell_type": "markdown",
   "id": "328a3c36",
   "metadata": {},
   "source": [
    "**What is the dimensionality of the vector space for this data?**"
   ]
  },
  {
   "cell_type": "code",
   "execution_count": 4,
   "id": "5ba93362",
   "metadata": {},
   "outputs": [
    {
     "name": "stdout",
     "output_type": "stream",
     "text": [
      "Dimensionality of the vector space: 3\n",
      "Dimensionality of the vector space: 1\n"
     ]
    }
   ],
   "source": [
    "def getDimension(X):\n",
    "    dimensionality = X.shape[1]\n",
    "    print(f\"Dimensionality of the vector space: {dimensionality}\")\n",
    "getDimension(A)\n",
    "getDimension(C)"
   ]
  },
  {
   "cell_type": "markdown",
   "id": "04f2f449",
   "metadata": {},
   "source": [
    "**How many vectors exist in this vector space?**"
   ]
  },
  {
   "cell_type": "code",
   "execution_count": 5,
   "id": "b621b76f",
   "metadata": {},
   "outputs": [
    {
     "name": "stdout",
     "output_type": "stream",
     "text": [
      "No of vectors in vector space is 10\n",
      "No of vectors in vector space is 10\n"
     ]
    }
   ],
   "source": [
    "def getNoofVectors(X):\n",
    "    print(f\"No of vectors in vector space is {X.shape[0]}\")\n",
    "getNoofVectors(A)\n",
    "getNoofVectors(C)"
   ]
  },
  {
   "cell_type": "markdown",
   "id": "41ae507e",
   "metadata": {},
   "source": [
    "**What is the rank of Matrix A?**"
   ]
  },
  {
   "cell_type": "code",
   "execution_count": 6,
   "id": "9df804e5-bfdc-4bee-8f7b-3045f5ac16ca",
   "metadata": {},
   "outputs": [
    {
     "name": "stdout",
     "output_type": "stream",
     "text": [
      "Rank of A is  3\n"
     ]
    }
   ],
   "source": [
    "#Finding rank\n",
    "def getRank(A):\n",
    "    return np.linalg.matrix_rank(A)\n",
    "print(\"Rank of A is \",getRank(A))"
   ]
  },
  {
   "cell_type": "markdown",
   "id": "2ba40199",
   "metadata": {},
   "source": [
    "**Using Pseudo-Inverse find the cost of each product available for sale.\n",
    "(Suggestion: If you use Python, you can use numpy.linalg.pinv() function to get a\n",
    "pseudo-inverse.)**"
   ]
  },
  {
   "cell_type": "code",
   "execution_count": 7,
   "id": "ae48f9ce-54d4-43cb-a3d8-f399fb3d8054",
   "metadata": {},
   "outputs": [
    {
     "name": "stdout",
     "output_type": "stream",
     "text": [
      "Candies:Rs  1.0  Mangoes:Rs  55.0  MilkPackets:Rs  18.0\n"
     ]
    }
   ],
   "source": [
    "def getCost():\n",
    "    inv = np.linalg.pinv(A)\n",
    "    cost = np.matmul(inv,C)\n",
    "    print(\"Candies:Rs \",round(cost[0,0],0),\" Mangoes:Rs \",round(cost[1,0],0),\" MilkPackets:Rs \",round(cost[2,0],0))\n",
    "    return cost\n",
    "cost = getCost()"
   ]
  },
  {
   "cell_type": "markdown",
   "id": "59123fa7",
   "metadata": {},
   "source": [
    "**A2. Use the Pseudo-inverse to calculate the model vector X for predicting the cost of the products\n",
    "available with the vendor.**"
   ]
  },
  {
   "cell_type": "code",
   "execution_count": 8,
   "id": "8881edd0-d27c-433f-822a-cb422c402dc9",
   "metadata": {},
   "outputs": [
    {
     "name": "stdout",
     "output_type": "stream",
     "text": [
      "        Product  cost\n",
      "0       Candies   1.0\n",
      "1       Mangoes  55.0\n",
      "2  Milk Packets  18.0\n"
     ]
    }
   ],
   "source": [
    "def addSolution():\n",
    "    d = {\"Product\":[\"Candies\",\"Mangoes\",\"Milk Packets\"],\n",
    "         \"cost\":np.ndarray.tolist(cost.ravel())\n",
    "        }\n",
    "    ans = pd.DataFrame(d)\n",
    "    print(ans)\n",
    "addSolution()"
   ]
  },
  {
   "cell_type": "markdown",
   "id": "4e935153",
   "metadata": {},
   "source": [
    "**A3. Mark all customers (in “Purchase Data” table) with payments above Rs. 200 as RICH and others\n",
    "as POOR. Develop a classifier model to categorize customers into RICH or POOR class based on\n",
    "purchase behavior.**"
   ]
  },
  {
   "cell_type": "code",
   "execution_count": 9,
   "id": "67213316-9229-49c2-b71d-6d80101d5fea",
   "metadata": {},
   "outputs": [
    {
     "name": "stdout",
     "output_type": "stream",
     "text": [
      "  Customer  Candies (#)  Mangoes (Kg)  Milk Packets (#)  Payment (Rs) status\n",
      "0      C_1           20             6                 2           386   Rich\n",
      "1      C_2           16             3                 6           289   Rich\n",
      "2      C_3           27             6                 2           393   Rich\n",
      "3      C_4           19             1                 2           110   Poor\n",
      "4      C_5           24             4                 2           280   Rich\n",
      "5      C_6           22             1                 5           167   Poor\n",
      "6      C_7           15             4                 2           271   Rich\n",
      "7      C_8           18             4                 2           274   Rich\n",
      "8      C_9           21             1                 4           148   Poor\n",
      "9     C_10           16             2                 4           198   Poor\n"
     ]
    }
   ],
   "source": [
    "def classifier():\n",
    "    pdata['status'] = ['Rich' if x > 200 else 'Poor' for x in pdata['Payment (Rs)']] #classifying on basis of value 200\n",
    "classifier()\n",
    "print(pdata)"
   ]
  },
  {
   "cell_type": "markdown",
   "id": "46c0209e",
   "metadata": {},
   "source": [
    "**A4. Please refer to the data present in “IRCTC Stock Price” data sheet of the above excel file. Do the\n",
    "following after loading the data to your programming platform.**"
   ]
  },
  {
   "cell_type": "code",
   "execution_count": 10,
   "id": "84e18d18-c638-4b4f-86d0-3ab0c3887d66",
   "metadata": {
    "scrolled": true
   },
   "outputs": [
    {
     "name": "stdout",
     "output_type": "stream",
     "text": [
      "             Date Month  Day    Price     Open     High      Low   Volume  \\\n",
      "0    Jun 29, 2021   Jun  Tue  2081.85  2092.00  2126.90  2065.05    1.67M   \n",
      "1    Jun 28, 2021   Jun  Mon  2077.75  2084.00  2112.45  2068.40  707.73K   \n",
      "2    Jun 25, 2021   Jun  Fri  2068.85  2084.35  2088.50  2053.10  475.82K   \n",
      "3    Jun 24, 2021   Jun  Thu  2072.95  2098.00  2098.00  2066.00  541.51K   \n",
      "4    Jun 23, 2021   Jun  Wed  2078.25  2102.00  2111.40  2072.00  809.62K   \n",
      "..            ...   ...  ...      ...      ...      ...      ...      ...   \n",
      "244  Jul 07, 2020   Jul  Tue  1397.40  1410.00  1411.00  1390.05  480.21K   \n",
      "245  Jul 06, 2020   Jul  Mon  1400.75  1405.50  1415.50  1394.00  614.93K   \n",
      "246  Jul 03, 2020   Jul  Fri  1405.10  1415.00  1425.00  1398.00  599.49K   \n",
      "247  Jul 02, 2020   Jul  Thu  1412.35  1440.00  1467.80  1395.30    2.16M   \n",
      "248  Jul 01, 2020   Jul  Wed  1363.05  1363.65  1377.00  1356.00  383.00K   \n",
      "\n",
      "       Chg%  \n",
      "0    0.0020  \n",
      "1    0.0043  \n",
      "2   -0.0020  \n",
      "3   -0.0026  \n",
      "4   -0.0023  \n",
      "..      ...  \n",
      "244 -0.0024  \n",
      "245 -0.0031  \n",
      "246 -0.0051  \n",
      "247  0.0362  \n",
      "248  0.0032  \n",
      "\n",
      "[249 rows x 9 columns]\n"
     ]
    }
   ],
   "source": [
    "irctcdata = df[\"IRCTC Stock Price\"] #loading irctc data\n",
    "print(irctcdata)"
   ]
  },
  {
   "cell_type": "markdown",
   "id": "5cea9bfc",
   "metadata": {},
   "source": [
    "**Calculate the mean and variance of the Price data present in column D.**"
   ]
  },
  {
   "cell_type": "code",
   "execution_count": 11,
   "id": "95d51a38-1967-4e33-ac58-99563d7fdfde",
   "metadata": {},
   "outputs": [],
   "source": [
    "import statistics as st"
   ]
  },
  {
   "cell_type": "code",
   "execution_count": 12,
   "id": "4642e0bc-cf4e-41d9-aaa7-0c4372da3b04",
   "metadata": {},
   "outputs": [
    {
     "name": "stdout",
     "output_type": "stream",
     "text": [
      "Price mean: 1560.663453815261 \n",
      "Price variance: 58732.365352539186\n"
     ]
    }
   ],
   "source": [
    "def getMeanAndVariance(column):\n",
    "    price = irctcdata[column]\n",
    "    mprice = st.mean(price)\n",
    "    var = st.variance(price)\n",
    "    return [mprice,var]\n",
    "[mn,var]=getMeanAndVariance(\"Price\")\n",
    "print(\"Price mean:\",mn,\"\\nPrice variance:\",var)"
   ]
  },
  {
   "cell_type": "markdown",
   "id": "e05000f5",
   "metadata": {},
   "source": [
    "**Select the price data for all Wednesdays and calculate the sample mean. Compare the mean\n",
    "with the population mean and note your observations.**"
   ]
  },
  {
   "cell_type": "code",
   "execution_count": 13,
   "id": "91ab590d-06cb-471e-8f8e-82b1ef119816",
   "metadata": {},
   "outputs": [
    {
     "name": "stdout",
     "output_type": "stream",
     "text": [
      "Wednesdays mean: 1550.706\n"
     ]
    }
   ],
   "source": [
    "def getMeanofDay(Day):\n",
    "    Daydata = irctcdata[ irctcdata[\"Day\"] == Day]['Price']\n",
    "    Daymean = st.mean(Daydata)\n",
    "    return Daymean\n",
    "print(\"Wednesdays mean:\",getMeanofDay(\"Wed\"))"
   ]
  },
  {
   "cell_type": "markdown",
   "id": "7521e07e",
   "metadata": {},
   "source": [
    "*->The mean of wednesday is found to be 1550.706 which is almost equal to population mean*"
   ]
  },
  {
   "cell_type": "markdown",
   "id": "9876c739",
   "metadata": {},
   "source": [
    "**Select the price data for the month of Apr and calculate the sample mean. Compare the\n",
    "mean with the population mean and note your observations.**"
   ]
  },
  {
   "cell_type": "code",
   "execution_count": 14,
   "id": "889003cc-8cc2-4b45-98af-178cda35d3e3",
   "metadata": {},
   "outputs": [
    {
     "name": "stdout",
     "output_type": "stream",
     "text": [
      "April mean: 1698.9526315789474\n"
     ]
    }
   ],
   "source": [
    "def getMeanofMonth(mon):\n",
    "    Daydata = irctcdata[ irctcdata[\"Month\"] == mon]['Price']\n",
    "    Monmean = st.mean(Daydata)\n",
    "    return Monmean\n",
    "print(\"April mean:\",getMeanofMonth(\"Apr\"))"
   ]
  },
  {
   "cell_type": "markdown",
   "id": "97395628",
   "metadata": {},
   "source": [
    "*-> The mean of april is 150 more than population mean*"
   ]
  },
  {
   "cell_type": "markdown",
   "id": "f95a8352",
   "metadata": {},
   "source": [
    "**From the Chg% (available in column I) find the probability of making a loss over the stock.\n",
    "(Suggestion: use lambda function to find negative values)**"
   ]
  },
  {
   "cell_type": "code",
   "execution_count": 15,
   "id": "c29d0ae1-b07d-4524-bfee-42c55e3f1777",
   "metadata": {},
   "outputs": [
    {
     "name": "stdout",
     "output_type": "stream",
     "text": [
      "Probability of loss 49.79919678714859 %\n"
     ]
    }
   ],
   "source": [
    "#probability of loss\n",
    "def probabilityOfLoss():\n",
    "    perchange = irctcdata['Chg%']\n",
    "    totalcount = perchange.size\n",
    "    negcount = perchange[perchange<0].size\n",
    "    prob = negcount/totalcount * 100\n",
    "    return prob\n",
    "print(\"Probability of loss\",probabilityOfLoss(),\"%\")"
   ]
  },
  {
   "cell_type": "markdown",
   "id": "5f31b863",
   "metadata": {},
   "source": [
    "**Calculate the probability of making a profit on Wednesday.\n",
    "Calculate the conditional probability of making profit, given that today is Wednesday.**"
   ]
  },
  {
   "cell_type": "code",
   "execution_count": 16,
   "id": "88f3b260-db17-4465-b0ac-717548ba503a",
   "metadata": {},
   "outputs": [
    {
     "name": "stdout",
     "output_type": "stream",
     "text": [
      "Probability of profit on wednesday: 42.0 %\n",
      "conditional probability of profit given wednesday: 4.685408299866131 %\n"
     ]
    }
   ],
   "source": [
    "def prob_of_Loss_on_Day():\n",
    "    mask1 = irctcdata['Chg%']>0\n",
    "    mask2 = irctcdata['Day'] == \"Wed\"\n",
    "    wedprofitdayscount = irctcdata[mask1 & mask2].shape[0]\n",
    "    weddayscount = irctcdata[mask2].shape[0]\n",
    "    prob_of_wedprofit = wedprofitdayscount / weddayscount\n",
    "    print(\"Probability of profit on wednesday:\",prob_of_wedprofit*100,\"%\")\n",
    "    totalcount = irctcdata.size\n",
    "    prob_of_both = wedprofitdayscount/totalcount\n",
    "    prob_of_wed = (1/5)\n",
    "    con_prob = prob_of_both/prob_of_wed* 100\n",
    "    print(\"conditional probability of profit given wednesday:\",con_prob,\"%\")\n",
    "    \n",
    "prob_of_Loss_on_Day()"
   ]
  },
  {
   "cell_type": "markdown",
   "id": "d09a5773",
   "metadata": {},
   "source": [
    "**Make a scatter plot of Chg% data against the day of the week**"
   ]
  },
  {
   "cell_type": "code",
   "execution_count": 17,
   "id": "5262c9d8-dd82-4561-b00d-fa7032e50d17",
   "metadata": {},
   "outputs": [
    {
     "data": {
      "text/plain": [
       "<AxesSubplot: xlabel='Day', ylabel='Chg%'>"
      ]
     },
     "execution_count": 17,
     "metadata": {},
     "output_type": "execute_result"
    },
    {
     "data": {
      "image/png": "[encoded data removed]",
      "text/plain": [
       "<Figure size 640x480 with 1 Axes>"
      ]
     },
     "metadata": {},
     "output_type": "display_data"
    }
   ],
   "source": [
    "irctcdata.plot(x = \"Day\",y = \"Chg%\",kind = \"scatter\")"
   ]
  },
  {
   "cell_type": "markdown",
   "id": "7c19173a",
   "metadata": {},
   "source": [
    "**A5. Data Exploration: Load the data available in “thyroid0387_UCI” worksheet. Perform the\n",
    "following tasks:**"
   ]
  },
  {
   "cell_type": "code",
   "execution_count": 18,
   "id": "d91c156f-4b63-41d0-b900-74050f306c52",
   "metadata": {
    "scrolled": true
   },
   "outputs": [
    {
     "data": {
      "text/html": [
       "<div>\n",
       "<style scoped>\n",
       "    .dataframe tbody tr th:only-of-type {\n",
       "        vertical-align: middle;\n",
       "    }\n",
       "\n",
       "    .dataframe tbody tr th {\n",
       "        vertical-align: top;\n",
       "    }\n",
       "\n",
       "    .dataframe thead th {\n",
       "        text-align: right;\n",
       "    }\n",
       "</style>\n",
       "<table border=\"1\" class=\"dataframe\">\n",
       "  <thead>\n",
       "    <tr style=\"text-align: right;\">\n",
       "      <th></th>\n",
       "      <th>Record ID</th>\n",
       "      <th>age</th>\n",
       "      <th>sex</th>\n",
       "      <th>on thyroxine</th>\n",
       "      <th>query on thyroxine</th>\n",
       "      <th>on antithyroid medication</th>\n",
       "      <th>sick</th>\n",
       "      <th>pregnant</th>\n",
       "      <th>thyroid surgery</th>\n",
       "      <th>I131 treatment</th>\n",
       "      <th>...</th>\n",
       "      <th>TT4 measured</th>\n",
       "      <th>TT4</th>\n",
       "      <th>T4U measured</th>\n",
       "      <th>T4U</th>\n",
       "      <th>FTI measured</th>\n",
       "      <th>FTI</th>\n",
       "      <th>TBG measured</th>\n",
       "      <th>TBG</th>\n",
       "      <th>referral source</th>\n",
       "      <th>Condition</th>\n",
       "    </tr>\n",
       "  </thead>\n",
       "  <tbody>\n",
       "    <tr>\n",
       "      <th>0</th>\n",
       "      <td>840801013</td>\n",
       "      <td>29</td>\n",
       "      <td>F</td>\n",
       "      <td>f</td>\n",
       "      <td>f</td>\n",
       "      <td>f</td>\n",
       "      <td>f</td>\n",
       "      <td>f</td>\n",
       "      <td>f</td>\n",
       "      <td>f</td>\n",
       "      <td>...</td>\n",
       "      <td>f</td>\n",
       "      <td>?</td>\n",
       "      <td>f</td>\n",
       "      <td>?</td>\n",
       "      <td>f</td>\n",
       "      <td>?</td>\n",
       "      <td>f</td>\n",
       "      <td>?</td>\n",
       "      <td>other</td>\n",
       "      <td>NO CONDITION</td>\n",
       "    </tr>\n",
       "    <tr>\n",
       "      <th>1</th>\n",
       "      <td>840801014</td>\n",
       "      <td>29</td>\n",
       "      <td>F</td>\n",
       "      <td>f</td>\n",
       "      <td>f</td>\n",
       "      <td>f</td>\n",
       "      <td>f</td>\n",
       "      <td>f</td>\n",
       "      <td>f</td>\n",
       "      <td>f</td>\n",
       "      <td>...</td>\n",
       "      <td>t</td>\n",
       "      <td>128</td>\n",
       "      <td>f</td>\n",
       "      <td>?</td>\n",
       "      <td>f</td>\n",
       "      <td>?</td>\n",
       "      <td>f</td>\n",
       "      <td>?</td>\n",
       "      <td>other</td>\n",
       "      <td>NO CONDITION</td>\n",
       "    </tr>\n",
       "    <tr>\n",
       "      <th>2</th>\n",
       "      <td>840801042</td>\n",
       "      <td>41</td>\n",
       "      <td>F</td>\n",
       "      <td>f</td>\n",
       "      <td>f</td>\n",
       "      <td>f</td>\n",
       "      <td>f</td>\n",
       "      <td>f</td>\n",
       "      <td>f</td>\n",
       "      <td>f</td>\n",
       "      <td>...</td>\n",
       "      <td>f</td>\n",
       "      <td>?</td>\n",
       "      <td>f</td>\n",
       "      <td>?</td>\n",
       "      <td>f</td>\n",
       "      <td>?</td>\n",
       "      <td>t</td>\n",
       "      <td>11</td>\n",
       "      <td>other</td>\n",
       "      <td>NO CONDITION</td>\n",
       "    </tr>\n",
       "    <tr>\n",
       "      <th>3</th>\n",
       "      <td>840803046</td>\n",
       "      <td>36</td>\n",
       "      <td>F</td>\n",
       "      <td>f</td>\n",
       "      <td>f</td>\n",
       "      <td>f</td>\n",
       "      <td>f</td>\n",
       "      <td>f</td>\n",
       "      <td>f</td>\n",
       "      <td>f</td>\n",
       "      <td>...</td>\n",
       "      <td>f</td>\n",
       "      <td>?</td>\n",
       "      <td>f</td>\n",
       "      <td>?</td>\n",
       "      <td>f</td>\n",
       "      <td>?</td>\n",
       "      <td>t</td>\n",
       "      <td>26</td>\n",
       "      <td>other</td>\n",
       "      <td>NO CONDITION</td>\n",
       "    </tr>\n",
       "    <tr>\n",
       "      <th>4</th>\n",
       "      <td>840803047</td>\n",
       "      <td>32</td>\n",
       "      <td>F</td>\n",
       "      <td>f</td>\n",
       "      <td>f</td>\n",
       "      <td>f</td>\n",
       "      <td>f</td>\n",
       "      <td>f</td>\n",
       "      <td>f</td>\n",
       "      <td>f</td>\n",
       "      <td>...</td>\n",
       "      <td>f</td>\n",
       "      <td>?</td>\n",
       "      <td>f</td>\n",
       "      <td>?</td>\n",
       "      <td>f</td>\n",
       "      <td>?</td>\n",
       "      <td>t</td>\n",
       "      <td>36</td>\n",
       "      <td>other</td>\n",
       "      <td>S</td>\n",
       "    </tr>\n",
       "  </tbody>\n",
       "</table>\n",
       "<p>5 rows × 31 columns</p>\n",
       "</div>"
      ],
      "text/plain": [
       "   Record ID  age sex on thyroxine query on thyroxine  \\\n",
       "0  840801013   29   F            f                  f   \n",
       "1  840801014   29   F            f                  f   \n",
       "2  840801042   41   F            f                  f   \n",
       "3  840803046   36   F            f                  f   \n",
       "4  840803047   32   F            f                  f   \n",
       "\n",
       "  on antithyroid medication sick pregnant thyroid surgery I131 treatment  ...  \\\n",
       "0                         f    f        f               f              f  ...   \n",
       "1                         f    f        f               f              f  ...   \n",
       "2                         f    f        f               f              f  ...   \n",
       "3                         f    f        f               f              f  ...   \n",
       "4                         f    f        f               f              f  ...   \n",
       "\n",
       "  TT4 measured  TT4 T4U measured T4U FTI measured FTI TBG measured TBG  \\\n",
       "0            f    ?            f   ?            f   ?            f   ?   \n",
       "1            t  128            f   ?            f   ?            f   ?   \n",
       "2            f    ?            f   ?            f   ?            t  11   \n",
       "3            f    ?            f   ?            f   ?            t  26   \n",
       "4            f    ?            f   ?            f   ?            t  36   \n",
       "\n",
       "  referral source     Condition  \n",
       "0           other  NO CONDITION  \n",
       "1           other  NO CONDITION  \n",
       "2           other  NO CONDITION  \n",
       "3           other  NO CONDITION  \n",
       "4           other             S  \n",
       "\n",
       "[5 rows x 31 columns]"
      ]
     },
     "execution_count": 18,
     "metadata": {},
     "output_type": "execute_result"
    }
   ],
   "source": [
    "#Data Exploration\n",
    "thyroid_data = df['thyroid0387_UCI']\n",
    "thyroid_data.head()"
   ]
  },
  {
   "cell_type": "markdown",
   "id": "12dccf61",
   "metadata": {},
   "source": [
    "**Study each attribute and associated values present. Identify the datatype (nominal etc.)\n",
    "for the attribute.**"
   ]
  },
  {
   "cell_type": "code",
   "execution_count": 19,
   "id": "fda58bd6-2be7-410e-9e0c-3c0820ea677d",
   "metadata": {},
   "outputs": [
    {
     "name": "stdout",
     "output_type": "stream",
     "text": [
      "Numeric Columns: Index(['Record ID', 'age'], dtype='object')\n",
      "\n",
      "Categorical Columns: Index(['sex', 'on thyroxine', 'query on thyroxine',\n",
      "       'on antithyroid medication', 'sick', 'pregnant', 'thyroid surgery',\n",
      "       'I131 treatment', 'query hypothyroid', 'query hyperthyroid', 'lithium',\n",
      "       'goitre', 'tumor', 'hypopituitary', 'psych', 'TSH measured', 'TSH',\n",
      "       'T3 measured', 'T3', 'TT4 measured', 'TT4', 'T4U measured', 'T4U',\n",
      "       'FTI measured', 'FTI', 'TBG measured', 'TBG', 'referral source',\n",
      "       'Condition'],\n",
      "      dtype='object')\n"
     ]
    }
   ],
   "source": [
    "#A5\n",
    "#categorizing data\n",
    "def Categorize():\n",
    "    global numeric_columns,categorical_columns\n",
    "    numeric_columns = thyroid_data.select_dtypes(include=['number']).columns\n",
    "    categorical_columns = thyroid_data.select_dtypes(include=['object']).columns\n",
    "    \n",
    "Categorize()\n",
    "print(\"Numeric Columns:\", numeric_columns)\n",
    "print(\"\\nCategorical Columns:\", categorical_columns)"
   ]
  },
  {
   "cell_type": "markdown",
   "id": "2372f166",
   "metadata": {},
   "source": [
    "**For categorical attributes, identify the encoding scheme to be employed. (Guidance:\n",
    "employ label encoding for ordinal variables while One-Hot encoding may be employed\n",
    "for nominal variables).**"
   ]
  },
  {
   "cell_type": "code",
   "execution_count": 20,
   "id": "30ac1a2f",
   "metadata": {},
   "outputs": [
    {
     "name": "stdout",
     "output_type": "stream",
     "text": [
      "      Record ID  age  sex_?  sex_F  sex_M  on thyroxine_f  on thyroxine_t  \\\n",
      "0     840801013   29  False   True  False            True           False   \n",
      "1     840801014   29  False   True  False            True           False   \n",
      "2     840801042   41  False   True  False            True           False   \n",
      "3     840803046   36  False   True  False            True           False   \n",
      "4     840803047   32  False   True  False            True           False   \n",
      "...         ...  ...    ...    ...    ...             ...             ...   \n",
      "9167  870119022   56  False  False   True            True           False   \n",
      "9168  870119023   22  False  False   True            True           False   \n",
      "9169  870119025   69  False  False   True            True           False   \n",
      "9170  870119027   47  False   True  False            True           False   \n",
      "9171  870119035   31  False  False   True            True           False   \n",
      "\n",
      "      query on thyroxine_f  query on thyroxine_t  on antithyroid medication_f  \\\n",
      "0                     True                 False                         True   \n",
      "1                     True                 False                         True   \n",
      "2                     True                 False                         True   \n",
      "3                     True                 False                         True   \n",
      "4                     True                 False                         True   \n",
      "...                    ...                   ...                          ...   \n",
      "9167                  True                 False                         True   \n",
      "9168                  True                 False                         True   \n",
      "9169                  True                 False                         True   \n",
      "9170                  True                 False                         True   \n",
      "9171                  True                 False                         True   \n",
      "\n",
      "      ...  Condition_MI  Condition_MK  Condition_N  Condition_NO CONDITION  \\\n",
      "0     ...         False         False        False                    True   \n",
      "1     ...         False         False        False                    True   \n",
      "2     ...         False         False        False                    True   \n",
      "3     ...         False         False        False                    True   \n",
      "4     ...         False         False        False                   False   \n",
      "...   ...           ...           ...          ...                     ...   \n",
      "9167  ...         False         False        False                    True   \n",
      "9168  ...         False         False        False                    True   \n",
      "9169  ...         False         False        False                   False   \n",
      "9170  ...         False         False        False                    True   \n",
      "9171  ...         False         False        False                    True   \n",
      "\n",
      "      Condition_O  Condition_OI  Condition_P  Condition_Q  Condition_R  \\\n",
      "0           False         False        False        False        False   \n",
      "1           False         False        False        False        False   \n",
      "2           False         False        False        False        False   \n",
      "3           False         False        False        False        False   \n",
      "4           False         False        False        False        False   \n",
      "...           ...           ...          ...          ...          ...   \n",
      "9167        False         False        False        False        False   \n",
      "9168        False         False        False        False        False   \n",
      "9169        False         False        False        False        False   \n",
      "9170        False         False        False        False        False   \n",
      "9171        False         False        False        False        False   \n",
      "\n",
      "      Condition_S  \n",
      "0           False  \n",
      "1           False  \n",
      "2           False  \n",
      "3           False  \n",
      "4            True  \n",
      "...           ...  \n",
      "9167        False  \n",
      "9168        False  \n",
      "9169        False  \n",
      "9170        False  \n",
      "9171        False  \n",
      "\n",
      "[9172 rows x 1395 columns]\n"
     ]
    }
   ],
   "source": [
    "def oneHotEncode():\n",
    "    df_encoded = pd.get_dummies(thyroid_data, columns=categorical_columns)\n",
    "    print(df_encoded)\n",
    "oneHotEncode()"
   ]
  },
  {
   "cell_type": "markdown",
   "id": "0035e5b9",
   "metadata": {},
   "source": [
    "**Study the data range for numeric variables.Study the presence of missing values in each attribute.**"
   ]
  },
  {
   "cell_type": "code",
   "execution_count": 21,
   "id": "c45ffcd3-d89e-4a2b-9edf-68b0959a13a4",
   "metadata": {},
   "outputs": [],
   "source": [
    "def preprocessData():\n",
    "    global numeric_df\n",
    "    thyroid_data.replace(\"?\",np.nan,inplace = True)\n",
    "    numeric_df = thyroid_data.select_dtypes(include=['number'])\n",
    "preprocessData() #preprocessing here is removing ? and putting np.nan so range can be found"
   ]
  },
  {
   "cell_type": "code",
   "execution_count": 22,
   "id": "b8d314fe-118a-4982-a21d-7a92e528183a",
   "metadata": {},
   "outputs": [
    {
     "data": {
      "text/html": [
       "<div>\n",
       "<style scoped>\n",
       "    .dataframe tbody tr th:only-of-type {\n",
       "        vertical-align: middle;\n",
       "    }\n",
       "\n",
       "    .dataframe tbody tr th {\n",
       "        vertical-align: top;\n",
       "    }\n",
       "\n",
       "    .dataframe thead th {\n",
       "        text-align: right;\n",
       "    }\n",
       "</style>\n",
       "<table border=\"1\" class=\"dataframe\">\n",
       "  <thead>\n",
       "    <tr style=\"text-align: right;\">\n",
       "      <th></th>\n",
       "      <th>Record ID</th>\n",
       "      <th>age</th>\n",
       "      <th>TSH</th>\n",
       "      <th>T3</th>\n",
       "      <th>TT4</th>\n",
       "      <th>T4U</th>\n",
       "      <th>FTI</th>\n",
       "      <th>TBG</th>\n",
       "    </tr>\n",
       "  </thead>\n",
       "  <tbody>\n",
       "    <tr>\n",
       "      <th>0</th>\n",
       "      <td>840801013</td>\n",
       "      <td>29</td>\n",
       "      <td>0.3</td>\n",
       "      <td>NaN</td>\n",
       "      <td>NaN</td>\n",
       "      <td>NaN</td>\n",
       "      <td>NaN</td>\n",
       "      <td>NaN</td>\n",
       "    </tr>\n",
       "    <tr>\n",
       "      <th>1</th>\n",
       "      <td>840801014</td>\n",
       "      <td>29</td>\n",
       "      <td>1.6</td>\n",
       "      <td>1.9</td>\n",
       "      <td>128.0</td>\n",
       "      <td>NaN</td>\n",
       "      <td>NaN</td>\n",
       "      <td>NaN</td>\n",
       "    </tr>\n",
       "    <tr>\n",
       "      <th>2</th>\n",
       "      <td>840801042</td>\n",
       "      <td>41</td>\n",
       "      <td>NaN</td>\n",
       "      <td>NaN</td>\n",
       "      <td>NaN</td>\n",
       "      <td>NaN</td>\n",
       "      <td>NaN</td>\n",
       "      <td>11.0</td>\n",
       "    </tr>\n",
       "    <tr>\n",
       "      <th>3</th>\n",
       "      <td>840803046</td>\n",
       "      <td>36</td>\n",
       "      <td>NaN</td>\n",
       "      <td>NaN</td>\n",
       "      <td>NaN</td>\n",
       "      <td>NaN</td>\n",
       "      <td>NaN</td>\n",
       "      <td>26.0</td>\n",
       "    </tr>\n",
       "    <tr>\n",
       "      <th>4</th>\n",
       "      <td>840803047</td>\n",
       "      <td>32</td>\n",
       "      <td>NaN</td>\n",
       "      <td>NaN</td>\n",
       "      <td>NaN</td>\n",
       "      <td>NaN</td>\n",
       "      <td>NaN</td>\n",
       "      <td>36.0</td>\n",
       "    </tr>\n",
       "  </tbody>\n",
       "</table>\n",
       "</div>"
      ],
      "text/plain": [
       "   Record ID  age  TSH   T3    TT4  T4U  FTI   TBG\n",
       "0  840801013   29  0.3  NaN    NaN  NaN  NaN   NaN\n",
       "1  840801014   29  1.6  1.9  128.0  NaN  NaN   NaN\n",
       "2  840801042   41  NaN  NaN    NaN  NaN  NaN  11.0\n",
       "3  840803046   36  NaN  NaN    NaN  NaN  NaN  26.0\n",
       "4  840803047   32  NaN  NaN    NaN  NaN  NaN  36.0"
      ]
     },
     "execution_count": 22,
     "metadata": {},
     "output_type": "execute_result"
    }
   ],
   "source": [
    "numeric_df.head()"
   ]
  },
  {
   "cell_type": "code",
   "execution_count": 23,
   "id": "7f91de09-f6b7-41d7-8454-2775c7594155",
   "metadata": {},
   "outputs": [
    {
     "name": "stdout",
     "output_type": "stream",
     "text": [
      "Record ID range: 29318022\n",
      "Record ID emptycount: 0 \n",
      "\n",
      "age range: 65525\n",
      "age emptycount: 0 \n",
      "\n",
      "TSH range: 529.995\n",
      "TSH emptycount: 842 \n",
      "\n",
      "T3 range: 17.95\n",
      "T3 emptycount: 2604 \n",
      "\n",
      "TT4 range: 598.0\n",
      "TT4 emptycount: 442 \n",
      "\n",
      "T4U range: 2.16\n",
      "T4U emptycount: 809 \n",
      "\n",
      "FTI range: 879.6\n",
      "FTI emptycount: 802 \n",
      "\n",
      "TBG range: 199.9\n",
      "TBG emptycount: 8823 \n",
      "\n"
     ]
    }
   ],
   "source": [
    "def getrange_emptycount(colname):\n",
    "    print(colname,\"range:\", numeric_df[colname].max() - numeric_df[colname].min())\n",
    "    print(colname,\"emptycount:\",numeric_df[colname].isnull().sum(),\"\\n\")\n",
    "for column in numeric_df.columns:\n",
    "    getrange_emptycount(column)"
   ]
  },
  {
   "cell_type": "markdown",
   "id": "6e949541",
   "metadata": {},
   "source": [
    "**Study presence of outliers in data.**"
   ]
  },
  {
   "cell_type": "code",
   "execution_count": 24,
   "id": "d88ca836-8226-4e48-9677-95254a29119a",
   "metadata": {},
   "outputs": [],
   "source": [
    "import matplotlib.pyplot as plt"
   ]
  },
  {
   "cell_type": "code",
   "execution_count": 25,
   "id": "5cbfa404-f28b-4c59-8a93-e9cd03f97953",
   "metadata": {},
   "outputs": [
    {
     "data": {
      "image/png": "[encoded data removed]",
      "text/plain": [
       "<Figure size 1000x200 with 1 Axes>"
      ]
     },
     "metadata": {},
     "output_type": "display_data"
    },
    {
     "data": {
      "image/png": "[encoded data removed]",
      "text/plain": [
       "<Figure size 1000x200 with 1 Axes>"
      ]
     },
     "metadata": {},
     "output_type": "display_data"
    },
    {
     "data": {
      "image/png": "[encoded data removed]",
      "text/plain": [
       "<Figure size 1000x200 with 1 Axes>"
      ]
     },
     "metadata": {},
     "output_type": "display_data"
    },
    {
     "data": {
      "image/png": "[encoded data removed]",
      "text/plain": [
       "<Figure size 1000x200 with 1 Axes>"
      ]
     },
     "metadata": {},
     "output_type": "display_data"
    },
    {
     "data": {
      "image/png": "[encoded data removed]",
      "text/plain": [
       "<Figure size 1000x200 with 1 Axes>"
      ]
     },
     "metadata": {},
     "output_type": "display_data"
    },
    {
     "data": {
      "image/png": "[encoded data removed]",
      "text/plain": [
       "<Figure size 1000x200 with 1 Axes>"
      ]
     },
     "metadata": {},
     "output_type": "display_data"
    },
    {
     "data": {
      "image/png": "[encoded data removed]",
      "text/plain": [
       "<Figure size 1000x200 with 1 Axes>"
      ]
     },
     "metadata": {},
     "output_type": "display_data"
    },
    {
     "data": {
      "image/png": "[encoded data removed]",
      "text/plain": [
       "<Figure size 1000x200 with 1 Axes>"
      ]
     },
     "metadata": {},
     "output_type": "display_data"
    }
   ],
   "source": [
    "for column in numeric_df.columns:\n",
    "    plt.figure(figsize=(10, 2))\n",
    "    plt.boxplot(numeric_df[column].dropna(),vert=False)\n",
    "    plt.title(f\"Boxplot of {column}\")\n",
    "    plt.show()"
   ]
  },
  {
   "cell_type": "markdown",
   "id": "449383f8",
   "metadata": {},
   "source": [
    "**For numeric variables, calculate the mean and variance (or standard deviation).**"
   ]
  },
  {
   "cell_type": "code",
   "execution_count": 26,
   "id": "c6ad0a36-31d0-4e28-9a47-f3a6d43f41e5",
   "metadata": {},
   "outputs": [
    {
     "name": "stdout",
     "output_type": "stream",
     "text": [
      "Record ID \n",
      "mean: 852947346.6122983 \n",
      "variance: 57486250586150.34 \n",
      "\n",
      "age \n",
      "mean: 73.55582206716092 \n",
      "variance: 1401800.8688713463 \n",
      "\n",
      "TSH \n",
      "mean: 5.218402753781513 \n",
      "variance: 584.866153209295 \n",
      "\n",
      "T3 \n",
      "mean: 1.970628805724726 \n",
      "variance: 0.7877961683561565 \n",
      "\n",
      "TT4 \n",
      "mean: 108.70030469644902 \n",
      "variance: 1407.950791475491 \n",
      "\n",
      "T4U \n",
      "mean: 0.9760557216309935 \n",
      "variance: 0.04014430639006391 \n",
      "\n",
      "FTI \n",
      "mean: 113.64074551935484 \n",
      "variance: 1726.539585061158 \n",
      "\n",
      "TBG \n",
      "mean: 29.87005729512894 \n",
      "variance: 444.38764299946627 \n",
      "\n"
     ]
    }
   ],
   "source": [
    "def mean_variance(column):\n",
    "    print(column,\"\\nmean:\",numeric_df[column].mean(),\"\\nvariance:\",numeric_df[column].var(),\"\\n\")\n",
    "for column in numeric_df.columns:\n",
    "    mean_variance(column)"
   ]
  },
  {
   "cell_type": "markdown",
   "id": "a52773b0",
   "metadata": {},
   "source": [
    "**A6. Data Imputation: employ appropriate central tendencies to fill the missing values in the data\n",
    "variables. Employ following guidance. Mean may be used when the attribute is numeric with no outliers.\n",
    "Median may be employed for attributes which are numeric and contain outliers. Mode may be employed for categorical attributes**"
   ]
  },
  {
   "cell_type": "code",
   "execution_count": 27,
   "id": "122c020b-35f1-4c68-a0c3-07c524139473",
   "metadata": {},
   "outputs": [],
   "source": [
    "#outlier presence\n",
    "def check_present(df,column):\n",
    "    q1 = df[column].quantile(0.25)\n",
    "    q3 = df[column].quantile(0.75)\n",
    "    iqr = q3 - q1\n",
    "    bound1 = q1-1.5*iqr\n",
    "    bound2 = q3+1.5*iqr\n",
    "    val =len(df[ (df[column]<bound1) | (df[column]>bound2) ])\n",
    "    if val == 0:\n",
    "        return False\n",
    "    else:\n",
    "        return True"
   ]
  },
  {
   "cell_type": "code",
   "execution_count": 28,
   "id": "e5f24866-6bb7-4700-85f7-20997587073c",
   "metadata": {},
   "outputs": [
    {
     "data": {
      "text/html": [
       "<div>\n",
       "<style scoped>\n",
       "    .dataframe tbody tr th:only-of-type {\n",
       "        vertical-align: middle;\n",
       "    }\n",
       "\n",
       "    .dataframe tbody tr th {\n",
       "        vertical-align: top;\n",
       "    }\n",
       "\n",
       "    .dataframe thead th {\n",
       "        text-align: right;\n",
       "    }\n",
       "</style>\n",
       "<table border=\"1\" class=\"dataframe\">\n",
       "  <thead>\n",
       "    <tr style=\"text-align: right;\">\n",
       "      <th></th>\n",
       "      <th>Record ID</th>\n",
       "      <th>age</th>\n",
       "      <th>sex</th>\n",
       "      <th>on thyroxine</th>\n",
       "      <th>query on thyroxine</th>\n",
       "      <th>on antithyroid medication</th>\n",
       "      <th>sick</th>\n",
       "      <th>pregnant</th>\n",
       "      <th>thyroid surgery</th>\n",
       "      <th>I131 treatment</th>\n",
       "      <th>...</th>\n",
       "      <th>TT4 measured</th>\n",
       "      <th>TT4</th>\n",
       "      <th>T4U measured</th>\n",
       "      <th>T4U</th>\n",
       "      <th>FTI measured</th>\n",
       "      <th>FTI</th>\n",
       "      <th>TBG measured</th>\n",
       "      <th>TBG</th>\n",
       "      <th>referral source</th>\n",
       "      <th>Condition</th>\n",
       "    </tr>\n",
       "  </thead>\n",
       "  <tbody>\n",
       "    <tr>\n",
       "      <th>0</th>\n",
       "      <td>840801013</td>\n",
       "      <td>29</td>\n",
       "      <td>F</td>\n",
       "      <td>f</td>\n",
       "      <td>f</td>\n",
       "      <td>f</td>\n",
       "      <td>f</td>\n",
       "      <td>f</td>\n",
       "      <td>f</td>\n",
       "      <td>f</td>\n",
       "      <td>...</td>\n",
       "      <td>f</td>\n",
       "      <td>104.0</td>\n",
       "      <td>f</td>\n",
       "      <td>0.96</td>\n",
       "      <td>f</td>\n",
       "      <td>109.0</td>\n",
       "      <td>f</td>\n",
       "      <td>26.0</td>\n",
       "      <td>other</td>\n",
       "      <td>NO CONDITION</td>\n",
       "    </tr>\n",
       "    <tr>\n",
       "      <th>1</th>\n",
       "      <td>840801014</td>\n",
       "      <td>29</td>\n",
       "      <td>F</td>\n",
       "      <td>f</td>\n",
       "      <td>f</td>\n",
       "      <td>f</td>\n",
       "      <td>f</td>\n",
       "      <td>f</td>\n",
       "      <td>f</td>\n",
       "      <td>f</td>\n",
       "      <td>...</td>\n",
       "      <td>t</td>\n",
       "      <td>128.0</td>\n",
       "      <td>f</td>\n",
       "      <td>0.96</td>\n",
       "      <td>f</td>\n",
       "      <td>109.0</td>\n",
       "      <td>f</td>\n",
       "      <td>26.0</td>\n",
       "      <td>other</td>\n",
       "      <td>NO CONDITION</td>\n",
       "    </tr>\n",
       "    <tr>\n",
       "      <th>2</th>\n",
       "      <td>840801042</td>\n",
       "      <td>41</td>\n",
       "      <td>F</td>\n",
       "      <td>f</td>\n",
       "      <td>f</td>\n",
       "      <td>f</td>\n",
       "      <td>f</td>\n",
       "      <td>f</td>\n",
       "      <td>f</td>\n",
       "      <td>f</td>\n",
       "      <td>...</td>\n",
       "      <td>f</td>\n",
       "      <td>104.0</td>\n",
       "      <td>f</td>\n",
       "      <td>0.96</td>\n",
       "      <td>f</td>\n",
       "      <td>109.0</td>\n",
       "      <td>t</td>\n",
       "      <td>11.0</td>\n",
       "      <td>other</td>\n",
       "      <td>NO CONDITION</td>\n",
       "    </tr>\n",
       "    <tr>\n",
       "      <th>3</th>\n",
       "      <td>840803046</td>\n",
       "      <td>36</td>\n",
       "      <td>F</td>\n",
       "      <td>f</td>\n",
       "      <td>f</td>\n",
       "      <td>f</td>\n",
       "      <td>f</td>\n",
       "      <td>f</td>\n",
       "      <td>f</td>\n",
       "      <td>f</td>\n",
       "      <td>...</td>\n",
       "      <td>f</td>\n",
       "      <td>104.0</td>\n",
       "      <td>f</td>\n",
       "      <td>0.96</td>\n",
       "      <td>f</td>\n",
       "      <td>109.0</td>\n",
       "      <td>t</td>\n",
       "      <td>26.0</td>\n",
       "      <td>other</td>\n",
       "      <td>NO CONDITION</td>\n",
       "    </tr>\n",
       "    <tr>\n",
       "      <th>4</th>\n",
       "      <td>840803047</td>\n",
       "      <td>32</td>\n",
       "      <td>F</td>\n",
       "      <td>f</td>\n",
       "      <td>f</td>\n",
       "      <td>f</td>\n",
       "      <td>f</td>\n",
       "      <td>f</td>\n",
       "      <td>f</td>\n",
       "      <td>f</td>\n",
       "      <td>...</td>\n",
       "      <td>f</td>\n",
       "      <td>104.0</td>\n",
       "      <td>f</td>\n",
       "      <td>0.96</td>\n",
       "      <td>f</td>\n",
       "      <td>109.0</td>\n",
       "      <td>t</td>\n",
       "      <td>36.0</td>\n",
       "      <td>other</td>\n",
       "      <td>S</td>\n",
       "    </tr>\n",
       "  </tbody>\n",
       "</table>\n",
       "<p>5 rows × 31 columns</p>\n",
       "</div>"
      ],
      "text/plain": [
       "   Record ID  age sex on thyroxine query on thyroxine  \\\n",
       "0  840801013   29   F            f                  f   \n",
       "1  840801014   29   F            f                  f   \n",
       "2  840801042   41   F            f                  f   \n",
       "3  840803046   36   F            f                  f   \n",
       "4  840803047   32   F            f                  f   \n",
       "\n",
       "  on antithyroid medication sick pregnant thyroid surgery I131 treatment  ...  \\\n",
       "0                         f    f        f               f              f  ...   \n",
       "1                         f    f        f               f              f  ...   \n",
       "2                         f    f        f               f              f  ...   \n",
       "3                         f    f        f               f              f  ...   \n",
       "4                         f    f        f               f              f  ...   \n",
       "\n",
       "  TT4 measured    TT4 T4U measured   T4U FTI measured    FTI TBG measured  \\\n",
       "0            f  104.0            f  0.96            f  109.0            f   \n",
       "1            t  128.0            f  0.96            f  109.0            f   \n",
       "2            f  104.0            f  0.96            f  109.0            t   \n",
       "3            f  104.0            f  0.96            f  109.0            t   \n",
       "4            f  104.0            f  0.96            f  109.0            t   \n",
       "\n",
       "    TBG  referral source     Condition  \n",
       "0  26.0            other  NO CONDITION  \n",
       "1  26.0            other  NO CONDITION  \n",
       "2  11.0            other  NO CONDITION  \n",
       "3  26.0            other  NO CONDITION  \n",
       "4  36.0            other             S  \n",
       "\n",
       "[5 rows x 31 columns]"
      ]
     },
     "execution_count": 28,
     "metadata": {},
     "output_type": "execute_result"
    }
   ],
   "source": [
    "#Impute missing values\n",
    "for column in thyroid_data.columns:\n",
    "    if thyroid_data[column].isnull().sum() > 0:\n",
    "        if thyroid_data[column].dtype == 'object':\n",
    "            thyroid_data[column].fillna(thyroid_data[column].mode()[0], inplace=True)\n",
    "        else:\n",
    "            if check_present(thyroid_data,column):\n",
    "                thyroid_data[column].fillna(thyroid_data[column].median(), inplace=True)\n",
    "            else:\n",
    "                thyroid_data[column].fillna(thyroid_data[column].mean(), inplace=True)\n",
    "thyroid_data.head()"
   ]
  },
  {
   "cell_type": "markdown",
   "id": "8a0e6988",
   "metadata": {},
   "source": [
    "**A7. Data Normalization / Scaling: from the data study, identify the attributes which may need\n",
    "normalization. Employ appropriate normalization techniques to create normalized set of data.**"
   ]
  },
  {
   "cell_type": "code",
   "execution_count": 29,
   "id": "109f31e4-6a1c-4b74-81b2-9676db9de46b",
   "metadata": {},
   "outputs": [
    {
     "name": "stderr",
     "output_type": "stream",
     "text": [
      "/tmp/ipykernel_14359/1878499828.py:11: SettingWithCopyWarning: \n",
      "A value is trying to be set on a copy of a slice from a DataFrame\n",
      "\n",
      "See the caveats in the documentation: https://pandas.pydata.org/pandas-docs/stable/user_guide/indexing.html#returning-a-view-versus-a-copy\n",
      "  normalized_data.dropna(inplace=True)\n",
      "/tmp/ipykernel_14359/1878499828.py:13: SettingWithCopyWarning: \n",
      "A value is trying to be set on a copy of a slice from a DataFrame.\n",
      "Try using .loc[row_indexer,col_indexer] = value instead\n",
      "\n",
      "See the caveats in the documentation: https://pandas.pydata.org/pandas-docs/stable/user_guide/indexing.html#returning-a-view-versus-a-copy\n",
      "  normalized_data[column] = normalize(normalized_data,column)\n"
     ]
    },
    {
     "data": {
      "text/html": [
       "<div>\n",
       "<style scoped>\n",
       "    .dataframe tbody tr th:only-of-type {\n",
       "        vertical-align: middle;\n",
       "    }\n",
       "\n",
       "    .dataframe tbody tr th {\n",
       "        vertical-align: top;\n",
       "    }\n",
       "\n",
       "    .dataframe thead th {\n",
       "        text-align: right;\n",
       "    }\n",
       "</style>\n",
       "<table border=\"1\" class=\"dataframe\">\n",
       "  <thead>\n",
       "    <tr style=\"text-align: right;\">\n",
       "      <th></th>\n",
       "      <th>Record ID</th>\n",
       "      <th>age</th>\n",
       "      <th>TSH</th>\n",
       "      <th>T3</th>\n",
       "      <th>TT4</th>\n",
       "      <th>T4U</th>\n",
       "      <th>FTI</th>\n",
       "      <th>TBG</th>\n",
       "    </tr>\n",
       "  </thead>\n",
       "  <tbody>\n",
       "    <tr>\n",
       "      <th>0</th>\n",
       "      <td>0.000000e+00</td>\n",
       "      <td>0.000427</td>\n",
       "      <td>0.000557</td>\n",
       "      <td>0.103064</td>\n",
       "      <td>0.170569</td>\n",
       "      <td>0.365741</td>\n",
       "      <td>0.122328</td>\n",
       "      <td>0.129565</td>\n",
       "    </tr>\n",
       "    <tr>\n",
       "      <th>1</th>\n",
       "      <td>3.410871e-08</td>\n",
       "      <td>0.000427</td>\n",
       "      <td>0.003009</td>\n",
       "      <td>0.103064</td>\n",
       "      <td>0.210702</td>\n",
       "      <td>0.365741</td>\n",
       "      <td>0.122328</td>\n",
       "      <td>0.129565</td>\n",
       "    </tr>\n",
       "    <tr>\n",
       "      <th>2</th>\n",
       "      <td>9.891527e-07</td>\n",
       "      <td>0.000610</td>\n",
       "      <td>0.002632</td>\n",
       "      <td>0.103064</td>\n",
       "      <td>0.170569</td>\n",
       "      <td>0.365741</td>\n",
       "      <td>0.122328</td>\n",
       "      <td>0.054527</td>\n",
       "    </tr>\n",
       "    <tr>\n",
       "      <th>3</th>\n",
       "      <td>6.934301e-05</td>\n",
       "      <td>0.000534</td>\n",
       "      <td>0.002632</td>\n",
       "      <td>0.103064</td>\n",
       "      <td>0.170569</td>\n",
       "      <td>0.365741</td>\n",
       "      <td>0.122328</td>\n",
       "      <td>0.129565</td>\n",
       "    </tr>\n",
       "    <tr>\n",
       "      <th>4</th>\n",
       "      <td>6.937712e-05</td>\n",
       "      <td>0.000473</td>\n",
       "      <td>0.002632</td>\n",
       "      <td>0.103064</td>\n",
       "      <td>0.170569</td>\n",
       "      <td>0.365741</td>\n",
       "      <td>0.122328</td>\n",
       "      <td>0.179590</td>\n",
       "    </tr>\n",
       "  </tbody>\n",
       "</table>\n",
       "</div>"
      ],
      "text/plain": [
       "      Record ID       age       TSH        T3       TT4       T4U       FTI  \\\n",
       "0  0.000000e+00  0.000427  0.000557  0.103064  0.170569  0.365741  0.122328   \n",
       "1  3.410871e-08  0.000427  0.003009  0.103064  0.210702  0.365741  0.122328   \n",
       "2  9.891527e-07  0.000610  0.002632  0.103064  0.170569  0.365741  0.122328   \n",
       "3  6.934301e-05  0.000534  0.002632  0.103064  0.170569  0.365741  0.122328   \n",
       "4  6.937712e-05  0.000473  0.002632  0.103064  0.170569  0.365741  0.122328   \n",
       "\n",
       "        TBG  \n",
       "0  0.129565  \n",
       "1  0.129565  \n",
       "2  0.054527  \n",
       "3  0.129565  \n",
       "4  0.179590  "
      ]
     },
     "execution_count": 29,
     "metadata": {},
     "output_type": "execute_result"
    }
   ],
   "source": [
    "def normalize(df,column):\n",
    "    min_val = np.min(df[column])\n",
    "    max_val = np.max(df[column])\n",
    "    normalized_column = [(x - min_val) / (max_val - min_val) for x in df[column]]\n",
    "    return normalized_column\n",
    "\n",
    "def NumericNormalize():\n",
    "    numeric_columns = thyroid_data.select_dtypes(include=['number']).columns\n",
    "    # Normalize each numeric column\n",
    "    normalized_data = thyroid_data[numeric_columns]\n",
    "    normalized_data.dropna(inplace=True)\n",
    "    for column in numeric_columns:\n",
    "        normalized_data[column] = normalize(normalized_data,column)\n",
    "    return normalized_data\n",
    "normalized_data = NumericNormalize()\n",
    "normalized_data.head()"
   ]
  },
  {
   "cell_type": "markdown",
   "id": "8d5bce96",
   "metadata": {},
   "source": [
    "**A8. Similarity Measure: Take the first 2 observation vectors from the dataset. Consider only the\n",
    "attributes (direct or derived) with binary values for these vectors (ignore other attributes). Calculate\n",
    "the Jaccard Coefficient (JC) and Simple Matching Coefficient (SMC) between the document vectors.\n",
    "Use first vector for each document for this. Compare the values for JC and SMC and judge the\n",
    "appropriateness of each of them.**"
   ]
  },
  {
   "cell_type": "code",
   "execution_count": 30,
   "id": "d7765715-066d-439a-ab97-dea7ae71d0f5",
   "metadata": {},
   "outputs": [
    {
     "name": "stdout",
     "output_type": "stream",
     "text": [
      "jaccard coeff: 0.25\n",
      "Simple Matching coeff: 0.8571428571428571\n"
     ]
    }
   ],
   "source": [
    "#accessing two observations\n",
    "binary_attr = []\n",
    "for column in thyroid_data.columns:\n",
    "    if(len(pd.unique(thyroid_data[column])) == 2):\n",
    "        binary_attr.append(column)\n",
    "\n",
    "binary_df = thyroid_data[binary_attr]\n",
    "\n",
    "for column in binary_df.columns:\n",
    "    unilist = pd.unique(binary_df[column])\n",
    "    unilist.sort()\n",
    "    newcolvalue = [ False if x == unilist[0] else True for x in binary_df[column]]\n",
    "    binary_df.loc[:,column] = newcolvalue\n",
    "\n",
    "vec1 = binary_df.iloc[0]\n",
    "vec2 = binary_df.iloc[1]\n",
    "def Coefficients():\n",
    "    f11 = sum(vec1 & vec2)\n",
    "    f01_10 = sum(vec1 ^ vec2)\n",
    "    f00 = sum(~(vec1 | vec2))\n",
    "    jc = f11/(f01_10 + f11)\n",
    "    smc = (f00 + f11)/(f00 + f01_10 + f11)\n",
    "    print(\"jaccard coeff:\",jc);\n",
    "    print(\"Simple Matching coeff:\",smc)\n",
    "Coefficients()"
   ]
  },
  {
   "cell_type": "markdown",
   "id": "e2e6568b",
   "metadata": {},
   "source": [
    "**A9. Cosine Similarity Measure: Now take the complete vectors for these two observations (including\n",
    "all the attributes). Calculate the Cosine similarity between the documents by using the second\n",
    "feature vector for each document.**"
   ]
  },
  {
   "cell_type": "code",
   "execution_count": 31,
   "id": "0a3b9b48-9743-449a-92d3-1affe204c632",
   "metadata": {},
   "outputs": [
    {
     "name": "stdout",
     "output_type": "stream",
     "text": [
      "cosine similarity measure: 0.45482004229128115\n"
     ]
    },
    {
     "name": "stderr",
     "output_type": "stream",
     "text": [
      "/tmp/ipykernel_14359/86911981.py:7: SettingWithCopyWarning: \n",
      "A value is trying to be set on a copy of a slice from a DataFrame\n",
      "\n",
      "See the caveats in the documentation: https://pandas.pydata.org/pandas-docs/stable/user_guide/indexing.html#returning-a-view-versus-a-copy\n",
      "  v1[x] = 1 if vec1[x] == True else 0\n",
      "/tmp/ipykernel_14359/86911981.py:7: SettingWithCopyWarning: \n",
      "A value is trying to be set on a copy of a slice from a DataFrame\n",
      "\n",
      "See the caveats in the documentation: https://pandas.pydata.org/pandas-docs/stable/user_guide/indexing.html#returning-a-view-versus-a-copy\n",
      "  v1[x] = 1 if vec1[x] == True else 0\n",
      "/tmp/ipykernel_14359/86911981.py:8: SettingWithCopyWarning: \n",
      "A value is trying to be set on a copy of a slice from a DataFrame\n",
      "\n",
      "See the caveats in the documentation: https://pandas.pydata.org/pandas-docs/stable/user_guide/indexing.html#returning-a-view-versus-a-copy\n",
      "  v2[x] = 1 if vec2[x] == True else 0\n",
      "/tmp/ipykernel_14359/86911981.py:8: SettingWithCopyWarning: \n",
      "A value is trying to be set on a copy of a slice from a DataFrame\n",
      "\n",
      "See the caveats in the documentation: https://pandas.pydata.org/pandas-docs/stable/user_guide/indexing.html#returning-a-view-versus-a-copy\n",
      "  v2[x] = 1 if vec2[x] == True else 0\n",
      "/tmp/ipykernel_14359/86911981.py:7: SettingWithCopyWarning: \n",
      "A value is trying to be set on a copy of a slice from a DataFrame\n",
      "\n",
      "See the caveats in the documentation: https://pandas.pydata.org/pandas-docs/stable/user_guide/indexing.html#returning-a-view-versus-a-copy\n",
      "  v1[x] = 1 if vec1[x] == True else 0\n",
      "/tmp/ipykernel_14359/86911981.py:7: SettingWithCopyWarning: \n",
      "A value is trying to be set on a copy of a slice from a DataFrame\n",
      "\n",
      "See the caveats in the documentation: https://pandas.pydata.org/pandas-docs/stable/user_guide/indexing.html#returning-a-view-versus-a-copy\n",
      "  v1[x] = 1 if vec1[x] == True else 0\n",
      "/tmp/ipykernel_14359/86911981.py:8: SettingWithCopyWarning: \n",
      "A value is trying to be set on a copy of a slice from a DataFrame\n",
      "\n",
      "See the caveats in the documentation: https://pandas.pydata.org/pandas-docs/stable/user_guide/indexing.html#returning-a-view-versus-a-copy\n",
      "  v2[x] = 1 if vec2[x] == True else 0\n",
      "/tmp/ipykernel_14359/86911981.py:8: SettingWithCopyWarning: \n",
      "A value is trying to be set on a copy of a slice from a DataFrame\n",
      "\n",
      "See the caveats in the documentation: https://pandas.pydata.org/pandas-docs/stable/user_guide/indexing.html#returning-a-view-versus-a-copy\n",
      "  v2[x] = 1 if vec2[x] == True else 0\n",
      "/tmp/ipykernel_14359/86911981.py:7: SettingWithCopyWarning: \n",
      "A value is trying to be set on a copy of a slice from a DataFrame\n",
      "\n",
      "See the caveats in the documentation: https://pandas.pydata.org/pandas-docs/stable/user_guide/indexing.html#returning-a-view-versus-a-copy\n",
      "  v1[x] = 1 if vec1[x] == True else 0\n",
      "/tmp/ipykernel_14359/86911981.py:7: SettingWithCopyWarning: \n",
      "A value is trying to be set on a copy of a slice from a DataFrame\n",
      "\n",
      "See the caveats in the documentation: https://pandas.pydata.org/pandas-docs/stable/user_guide/indexing.html#returning-a-view-versus-a-copy\n",
      "  v1[x] = 1 if vec1[x] == True else 0\n",
      "/tmp/ipykernel_14359/86911981.py:8: SettingWithCopyWarning: \n",
      "A value is trying to be set on a copy of a slice from a DataFrame\n",
      "\n",
      "See the caveats in the documentation: https://pandas.pydata.org/pandas-docs/stable/user_guide/indexing.html#returning-a-view-versus-a-copy\n",
      "  v2[x] = 1 if vec2[x] == True else 0\n",
      "/tmp/ipykernel_14359/86911981.py:8: SettingWithCopyWarning: \n",
      "A value is trying to be set on a copy of a slice from a DataFrame\n",
      "\n",
      "See the caveats in the documentation: https://pandas.pydata.org/pandas-docs/stable/user_guide/indexing.html#returning-a-view-versus-a-copy\n",
      "  v2[x] = 1 if vec2[x] == True else 0\n",
      "/tmp/ipykernel_14359/86911981.py:7: SettingWithCopyWarning: \n",
      "A value is trying to be set on a copy of a slice from a DataFrame\n",
      "\n",
      "See the caveats in the documentation: https://pandas.pydata.org/pandas-docs/stable/user_guide/indexing.html#returning-a-view-versus-a-copy\n",
      "  v1[x] = 1 if vec1[x] == True else 0\n",
      "/tmp/ipykernel_14359/86911981.py:7: SettingWithCopyWarning: \n",
      "A value is trying to be set on a copy of a slice from a DataFrame\n",
      "\n",
      "See the caveats in the documentation: https://pandas.pydata.org/pandas-docs/stable/user_guide/indexing.html#returning-a-view-versus-a-copy\n",
      "  v1[x] = 1 if vec1[x] == True else 0\n",
      "/tmp/ipykernel_14359/86911981.py:8: SettingWithCopyWarning: \n",
      "A value is trying to be set on a copy of a slice from a DataFrame\n",
      "\n",
      "See the caveats in the documentation: https://pandas.pydata.org/pandas-docs/stable/user_guide/indexing.html#returning-a-view-versus-a-copy\n",
      "  v2[x] = 1 if vec2[x] == True else 0\n",
      "/tmp/ipykernel_14359/86911981.py:8: SettingWithCopyWarning: \n",
      "A value is trying to be set on a copy of a slice from a DataFrame\n",
      "\n",
      "See the caveats in the documentation: https://pandas.pydata.org/pandas-docs/stable/user_guide/indexing.html#returning-a-view-versus-a-copy\n",
      "  v2[x] = 1 if vec2[x] == True else 0\n",
      "/tmp/ipykernel_14359/86911981.py:7: SettingWithCopyWarning: \n",
      "A value is trying to be set on a copy of a slice from a DataFrame\n",
      "\n",
      "See the caveats in the documentation: https://pandas.pydata.org/pandas-docs/stable/user_guide/indexing.html#returning-a-view-versus-a-copy\n",
      "  v1[x] = 1 if vec1[x] == True else 0\n",
      "/tmp/ipykernel_14359/86911981.py:7: SettingWithCopyWarning: \n",
      "A value is trying to be set on a copy of a slice from a DataFrame\n",
      "\n",
      "See the caveats in the documentation: https://pandas.pydata.org/pandas-docs/stable/user_guide/indexing.html#returning-a-view-versus-a-copy\n",
      "  v1[x] = 1 if vec1[x] == True else 0\n",
      "/tmp/ipykernel_14359/86911981.py:8: SettingWithCopyWarning: \n",
      "A value is trying to be set on a copy of a slice from a DataFrame\n",
      "\n",
      "See the caveats in the documentation: https://pandas.pydata.org/pandas-docs/stable/user_guide/indexing.html#returning-a-view-versus-a-copy\n",
      "  v2[x] = 1 if vec2[x] == True else 0\n",
      "/tmp/ipykernel_14359/86911981.py:8: SettingWithCopyWarning: \n",
      "A value is trying to be set on a copy of a slice from a DataFrame\n",
      "\n",
      "See the caveats in the documentation: https://pandas.pydata.org/pandas-docs/stable/user_guide/indexing.html#returning-a-view-versus-a-copy\n",
      "  v2[x] = 1 if vec2[x] == True else 0\n",
      "/tmp/ipykernel_14359/86911981.py:7: SettingWithCopyWarning: \n",
      "A value is trying to be set on a copy of a slice from a DataFrame\n",
      "\n",
      "See the caveats in the documentation: https://pandas.pydata.org/pandas-docs/stable/user_guide/indexing.html#returning-a-view-versus-a-copy\n",
      "  v1[x] = 1 if vec1[x] == True else 0\n",
      "/tmp/ipykernel_14359/86911981.py:7: SettingWithCopyWarning: \n",
      "A value is trying to be set on a copy of a slice from a DataFrame\n",
      "\n",
      "See the caveats in the documentation: https://pandas.pydata.org/pandas-docs/stable/user_guide/indexing.html#returning-a-view-versus-a-copy\n",
      "  v1[x] = 1 if vec1[x] == True else 0\n",
      "/tmp/ipykernel_14359/86911981.py:8: SettingWithCopyWarning: \n",
      "A value is trying to be set on a copy of a slice from a DataFrame\n",
      "\n",
      "See the caveats in the documentation: https://pandas.pydata.org/pandas-docs/stable/user_guide/indexing.html#returning-a-view-versus-a-copy\n",
      "  v2[x] = 1 if vec2[x] == True else 0\n",
      "/tmp/ipykernel_14359/86911981.py:8: SettingWithCopyWarning: \n",
      "A value is trying to be set on a copy of a slice from a DataFrame\n",
      "\n",
      "See the caveats in the documentation: https://pandas.pydata.org/pandas-docs/stable/user_guide/indexing.html#returning-a-view-versus-a-copy\n",
      "  v2[x] = 1 if vec2[x] == True else 0\n",
      "/tmp/ipykernel_14359/86911981.py:7: SettingWithCopyWarning: \n",
      "A value is trying to be set on a copy of a slice from a DataFrame\n",
      "\n",
      "See the caveats in the documentation: https://pandas.pydata.org/pandas-docs/stable/user_guide/indexing.html#returning-a-view-versus-a-copy\n",
      "  v1[x] = 1 if vec1[x] == True else 0\n",
      "/tmp/ipykernel_14359/86911981.py:7: SettingWithCopyWarning: \n",
      "A value is trying to be set on a copy of a slice from a DataFrame\n",
      "\n",
      "See the caveats in the documentation: https://pandas.pydata.org/pandas-docs/stable/user_guide/indexing.html#returning-a-view-versus-a-copy\n",
      "  v1[x] = 1 if vec1[x] == True else 0\n",
      "/tmp/ipykernel_14359/86911981.py:8: SettingWithCopyWarning: \n",
      "A value is trying to be set on a copy of a slice from a DataFrame\n",
      "\n",
      "See the caveats in the documentation: https://pandas.pydata.org/pandas-docs/stable/user_guide/indexing.html#returning-a-view-versus-a-copy\n",
      "  v2[x] = 1 if vec2[x] == True else 0\n",
      "/tmp/ipykernel_14359/86911981.py:8: SettingWithCopyWarning: \n",
      "A value is trying to be set on a copy of a slice from a DataFrame\n",
      "\n",
      "See the caveats in the documentation: https://pandas.pydata.org/pandas-docs/stable/user_guide/indexing.html#returning-a-view-versus-a-copy\n",
      "  v2[x] = 1 if vec2[x] == True else 0\n",
      "/tmp/ipykernel_14359/86911981.py:7: SettingWithCopyWarning: \n",
      "A value is trying to be set on a copy of a slice from a DataFrame\n",
      "\n",
      "See the caveats in the documentation: https://pandas.pydata.org/pandas-docs/stable/user_guide/indexing.html#returning-a-view-versus-a-copy\n",
      "  v1[x] = 1 if vec1[x] == True else 0\n",
      "/tmp/ipykernel_14359/86911981.py:7: SettingWithCopyWarning: \n",
      "A value is trying to be set on a copy of a slice from a DataFrame\n",
      "\n",
      "See the caveats in the documentation: https://pandas.pydata.org/pandas-docs/stable/user_guide/indexing.html#returning-a-view-versus-a-copy\n",
      "  v1[x] = 1 if vec1[x] == True else 0\n",
      "/tmp/ipykernel_14359/86911981.py:8: SettingWithCopyWarning: \n",
      "A value is trying to be set on a copy of a slice from a DataFrame\n",
      "\n",
      "See the caveats in the documentation: https://pandas.pydata.org/pandas-docs/stable/user_guide/indexing.html#returning-a-view-versus-a-copy\n",
      "  v2[x] = 1 if vec2[x] == True else 0\n",
      "/tmp/ipykernel_14359/86911981.py:8: SettingWithCopyWarning: \n",
      "A value is trying to be set on a copy of a slice from a DataFrame\n",
      "\n",
      "See the caveats in the documentation: https://pandas.pydata.org/pandas-docs/stable/user_guide/indexing.html#returning-a-view-versus-a-copy\n",
      "  v2[x] = 1 if vec2[x] == True else 0\n",
      "/tmp/ipykernel_14359/86911981.py:7: SettingWithCopyWarning: \n",
      "A value is trying to be set on a copy of a slice from a DataFrame\n",
      "\n",
      "See the caveats in the documentation: https://pandas.pydata.org/pandas-docs/stable/user_guide/indexing.html#returning-a-view-versus-a-copy\n",
      "  v1[x] = 1 if vec1[x] == True else 0\n",
      "/tmp/ipykernel_14359/86911981.py:7: SettingWithCopyWarning: \n",
      "A value is trying to be set on a copy of a slice from a DataFrame\n",
      "\n",
      "See the caveats in the documentation: https://pandas.pydata.org/pandas-docs/stable/user_guide/indexing.html#returning-a-view-versus-a-copy\n",
      "  v1[x] = 1 if vec1[x] == True else 0\n",
      "/tmp/ipykernel_14359/86911981.py:8: SettingWithCopyWarning: \n",
      "A value is trying to be set on a copy of a slice from a DataFrame\n",
      "\n",
      "See the caveats in the documentation: https://pandas.pydata.org/pandas-docs/stable/user_guide/indexing.html#returning-a-view-versus-a-copy\n",
      "  v2[x] = 1 if vec2[x] == True else 0\n",
      "/tmp/ipykernel_14359/86911981.py:8: SettingWithCopyWarning: \n",
      "A value is trying to be set on a copy of a slice from a DataFrame\n",
      "\n",
      "See the caveats in the documentation: https://pandas.pydata.org/pandas-docs/stable/user_guide/indexing.html#returning-a-view-versus-a-copy\n",
      "  v2[x] = 1 if vec2[x] == True else 0\n",
      "/tmp/ipykernel_14359/86911981.py:7: SettingWithCopyWarning: \n",
      "A value is trying to be set on a copy of a slice from a DataFrame\n",
      "\n",
      "See the caveats in the documentation: https://pandas.pydata.org/pandas-docs/stable/user_guide/indexing.html#returning-a-view-versus-a-copy\n",
      "  v1[x] = 1 if vec1[x] == True else 0\n",
      "/tmp/ipykernel_14359/86911981.py:7: SettingWithCopyWarning: \n",
      "A value is trying to be set on a copy of a slice from a DataFrame\n",
      "\n",
      "See the caveats in the documentation: https://pandas.pydata.org/pandas-docs/stable/user_guide/indexing.html#returning-a-view-versus-a-copy\n",
      "  v1[x] = 1 if vec1[x] == True else 0\n",
      "/tmp/ipykernel_14359/86911981.py:8: SettingWithCopyWarning: \n",
      "A value is trying to be set on a copy of a slice from a DataFrame\n",
      "\n",
      "See the caveats in the documentation: https://pandas.pydata.org/pandas-docs/stable/user_guide/indexing.html#returning-a-view-versus-a-copy\n",
      "  v2[x] = 1 if vec2[x] == True else 0\n",
      "/tmp/ipykernel_14359/86911981.py:8: SettingWithCopyWarning: \n",
      "A value is trying to be set on a copy of a slice from a DataFrame\n",
      "\n",
      "See the caveats in the documentation: https://pandas.pydata.org/pandas-docs/stable/user_guide/indexing.html#returning-a-view-versus-a-copy\n",
      "  v2[x] = 1 if vec2[x] == True else 0\n",
      "/tmp/ipykernel_14359/86911981.py:7: SettingWithCopyWarning: \n",
      "A value is trying to be set on a copy of a slice from a DataFrame\n",
      "\n",
      "See the caveats in the documentation: https://pandas.pydata.org/pandas-docs/stable/user_guide/indexing.html#returning-a-view-versus-a-copy\n",
      "  v1[x] = 1 if vec1[x] == True else 0\n",
      "/tmp/ipykernel_14359/86911981.py:7: SettingWithCopyWarning: \n",
      "A value is trying to be set on a copy of a slice from a DataFrame\n",
      "\n",
      "See the caveats in the documentation: https://pandas.pydata.org/pandas-docs/stable/user_guide/indexing.html#returning-a-view-versus-a-copy\n",
      "  v1[x] = 1 if vec1[x] == True else 0\n",
      "/tmp/ipykernel_14359/86911981.py:8: SettingWithCopyWarning: \n",
      "A value is trying to be set on a copy of a slice from a DataFrame\n",
      "\n",
      "See the caveats in the documentation: https://pandas.pydata.org/pandas-docs/stable/user_guide/indexing.html#returning-a-view-versus-a-copy\n",
      "  v2[x] = 1 if vec2[x] == True else 0\n",
      "/tmp/ipykernel_14359/86911981.py:8: SettingWithCopyWarning: \n",
      "A value is trying to be set on a copy of a slice from a DataFrame\n",
      "\n",
      "See the caveats in the documentation: https://pandas.pydata.org/pandas-docs/stable/user_guide/indexing.html#returning-a-view-versus-a-copy\n",
      "  v2[x] = 1 if vec2[x] == True else 0\n",
      "/tmp/ipykernel_14359/86911981.py:7: SettingWithCopyWarning: \n",
      "A value is trying to be set on a copy of a slice from a DataFrame\n",
      "\n",
      "See the caveats in the documentation: https://pandas.pydata.org/pandas-docs/stable/user_guide/indexing.html#returning-a-view-versus-a-copy\n",
      "  v1[x] = 1 if vec1[x] == True else 0\n",
      "/tmp/ipykernel_14359/86911981.py:7: SettingWithCopyWarning: \n",
      "A value is trying to be set on a copy of a slice from a DataFrame\n",
      "\n",
      "See the caveats in the documentation: https://pandas.pydata.org/pandas-docs/stable/user_guide/indexing.html#returning-a-view-versus-a-copy\n",
      "  v1[x] = 1 if vec1[x] == True else 0\n",
      "/tmp/ipykernel_14359/86911981.py:8: SettingWithCopyWarning: \n",
      "A value is trying to be set on a copy of a slice from a DataFrame\n",
      "\n",
      "See the caveats in the documentation: https://pandas.pydata.org/pandas-docs/stable/user_guide/indexing.html#returning-a-view-versus-a-copy\n",
      "  v2[x] = 1 if vec2[x] == True else 0\n",
      "/tmp/ipykernel_14359/86911981.py:8: SettingWithCopyWarning: \n",
      "A value is trying to be set on a copy of a slice from a DataFrame\n",
      "\n",
      "See the caveats in the documentation: https://pandas.pydata.org/pandas-docs/stable/user_guide/indexing.html#returning-a-view-versus-a-copy\n",
      "  v2[x] = 1 if vec2[x] == True else 0\n",
      "/tmp/ipykernel_14359/86911981.py:7: SettingWithCopyWarning: \n",
      "A value is trying to be set on a copy of a slice from a DataFrame\n",
      "\n",
      "See the caveats in the documentation: https://pandas.pydata.org/pandas-docs/stable/user_guide/indexing.html#returning-a-view-versus-a-copy\n",
      "  v1[x] = 1 if vec1[x] == True else 0\n",
      "/tmp/ipykernel_14359/86911981.py:7: SettingWithCopyWarning: \n",
      "A value is trying to be set on a copy of a slice from a DataFrame\n",
      "\n",
      "See the caveats in the documentation: https://pandas.pydata.org/pandas-docs/stable/user_guide/indexing.html#returning-a-view-versus-a-copy\n",
      "  v1[x] = 1 if vec1[x] == True else 0\n",
      "/tmp/ipykernel_14359/86911981.py:8: SettingWithCopyWarning: \n",
      "A value is trying to be set on a copy of a slice from a DataFrame\n",
      "\n",
      "See the caveats in the documentation: https://pandas.pydata.org/pandas-docs/stable/user_guide/indexing.html#returning-a-view-versus-a-copy\n",
      "  v2[x] = 1 if vec2[x] == True else 0\n",
      "/tmp/ipykernel_14359/86911981.py:8: SettingWithCopyWarning: \n",
      "A value is trying to be set on a copy of a slice from a DataFrame\n",
      "\n",
      "See the caveats in the documentation: https://pandas.pydata.org/pandas-docs/stable/user_guide/indexing.html#returning-a-view-versus-a-copy\n",
      "  v2[x] = 1 if vec2[x] == True else 0\n",
      "/tmp/ipykernel_14359/86911981.py:7: SettingWithCopyWarning: \n",
      "A value is trying to be set on a copy of a slice from a DataFrame\n",
      "\n",
      "See the caveats in the documentation: https://pandas.pydata.org/pandas-docs/stable/user_guide/indexing.html#returning-a-view-versus-a-copy\n",
      "  v1[x] = 1 if vec1[x] == True else 0\n",
      "/tmp/ipykernel_14359/86911981.py:7: SettingWithCopyWarning: \n",
      "A value is trying to be set on a copy of a slice from a DataFrame\n",
      "\n",
      "See the caveats in the documentation: https://pandas.pydata.org/pandas-docs/stable/user_guide/indexing.html#returning-a-view-versus-a-copy\n",
      "  v1[x] = 1 if vec1[x] == True else 0\n",
      "/tmp/ipykernel_14359/86911981.py:8: SettingWithCopyWarning: \n",
      "A value is trying to be set on a copy of a slice from a DataFrame\n",
      "\n",
      "See the caveats in the documentation: https://pandas.pydata.org/pandas-docs/stable/user_guide/indexing.html#returning-a-view-versus-a-copy\n",
      "  v2[x] = 1 if vec2[x] == True else 0\n",
      "/tmp/ipykernel_14359/86911981.py:8: SettingWithCopyWarning: \n",
      "A value is trying to be set on a copy of a slice from a DataFrame\n",
      "\n",
      "See the caveats in the documentation: https://pandas.pydata.org/pandas-docs/stable/user_guide/indexing.html#returning-a-view-versus-a-copy\n",
      "  v2[x] = 1 if vec2[x] == True else 0\n",
      "/tmp/ipykernel_14359/86911981.py:7: SettingWithCopyWarning: \n",
      "A value is trying to be set on a copy of a slice from a DataFrame\n",
      "\n",
      "See the caveats in the documentation: https://pandas.pydata.org/pandas-docs/stable/user_guide/indexing.html#returning-a-view-versus-a-copy\n",
      "  v1[x] = 1 if vec1[x] == True else 0\n",
      "/tmp/ipykernel_14359/86911981.py:7: SettingWithCopyWarning: \n",
      "A value is trying to be set on a copy of a slice from a DataFrame\n",
      "\n",
      "See the caveats in the documentation: https://pandas.pydata.org/pandas-docs/stable/user_guide/indexing.html#returning-a-view-versus-a-copy\n",
      "  v1[x] = 1 if vec1[x] == True else 0\n",
      "/tmp/ipykernel_14359/86911981.py:8: SettingWithCopyWarning: \n",
      "A value is trying to be set on a copy of a slice from a DataFrame\n",
      "\n",
      "See the caveats in the documentation: https://pandas.pydata.org/pandas-docs/stable/user_guide/indexing.html#returning-a-view-versus-a-copy\n",
      "  v2[x] = 1 if vec2[x] == True else 0\n",
      "/tmp/ipykernel_14359/86911981.py:8: SettingWithCopyWarning: \n",
      "A value is trying to be set on a copy of a slice from a DataFrame\n",
      "\n",
      "See the caveats in the documentation: https://pandas.pydata.org/pandas-docs/stable/user_guide/indexing.html#returning-a-view-versus-a-copy\n",
      "  v2[x] = 1 if vec2[x] == True else 0\n",
      "/tmp/ipykernel_14359/86911981.py:7: SettingWithCopyWarning: \n",
      "A value is trying to be set on a copy of a slice from a DataFrame\n",
      "\n",
      "See the caveats in the documentation: https://pandas.pydata.org/pandas-docs/stable/user_guide/indexing.html#returning-a-view-versus-a-copy\n",
      "  v1[x] = 1 if vec1[x] == True else 0\n",
      "/tmp/ipykernel_14359/86911981.py:7: SettingWithCopyWarning: \n",
      "A value is trying to be set on a copy of a slice from a DataFrame\n",
      "\n",
      "See the caveats in the documentation: https://pandas.pydata.org/pandas-docs/stable/user_guide/indexing.html#returning-a-view-versus-a-copy\n",
      "  v1[x] = 1 if vec1[x] == True else 0\n",
      "/tmp/ipykernel_14359/86911981.py:8: SettingWithCopyWarning: \n",
      "A value is trying to be set on a copy of a slice from a DataFrame\n",
      "\n",
      "See the caveats in the documentation: https://pandas.pydata.org/pandas-docs/stable/user_guide/indexing.html#returning-a-view-versus-a-copy\n",
      "  v2[x] = 1 if vec2[x] == True else 0\n",
      "/tmp/ipykernel_14359/86911981.py:8: SettingWithCopyWarning: \n",
      "A value is trying to be set on a copy of a slice from a DataFrame\n",
      "\n",
      "See the caveats in the documentation: https://pandas.pydata.org/pandas-docs/stable/user_guide/indexing.html#returning-a-view-versus-a-copy\n",
      "  v2[x] = 1 if vec2[x] == True else 0\n",
      "/tmp/ipykernel_14359/86911981.py:7: SettingWithCopyWarning: \n",
      "A value is trying to be set on a copy of a slice from a DataFrame\n",
      "\n",
      "See the caveats in the documentation: https://pandas.pydata.org/pandas-docs/stable/user_guide/indexing.html#returning-a-view-versus-a-copy\n",
      "  v1[x] = 1 if vec1[x] == True else 0\n",
      "/tmp/ipykernel_14359/86911981.py:7: SettingWithCopyWarning: \n",
      "A value is trying to be set on a copy of a slice from a DataFrame\n",
      "\n",
      "See the caveats in the documentation: https://pandas.pydata.org/pandas-docs/stable/user_guide/indexing.html#returning-a-view-versus-a-copy\n",
      "  v1[x] = 1 if vec1[x] == True else 0\n",
      "/tmp/ipykernel_14359/86911981.py:8: SettingWithCopyWarning: \n",
      "A value is trying to be set on a copy of a slice from a DataFrame\n",
      "\n",
      "See the caveats in the documentation: https://pandas.pydata.org/pandas-docs/stable/user_guide/indexing.html#returning-a-view-versus-a-copy\n",
      "  v2[x] = 1 if vec2[x] == True else 0\n",
      "/tmp/ipykernel_14359/86911981.py:8: SettingWithCopyWarning: \n",
      "A value is trying to be set on a copy of a slice from a DataFrame\n",
      "\n",
      "See the caveats in the documentation: https://pandas.pydata.org/pandas-docs/stable/user_guide/indexing.html#returning-a-view-versus-a-copy\n",
      "  v2[x] = 1 if vec2[x] == True else 0\n",
      "/tmp/ipykernel_14359/86911981.py:7: SettingWithCopyWarning: \n",
      "A value is trying to be set on a copy of a slice from a DataFrame\n",
      "\n",
      "See the caveats in the documentation: https://pandas.pydata.org/pandas-docs/stable/user_guide/indexing.html#returning-a-view-versus-a-copy\n",
      "  v1[x] = 1 if vec1[x] == True else 0\n",
      "/tmp/ipykernel_14359/86911981.py:7: SettingWithCopyWarning: \n",
      "A value is trying to be set on a copy of a slice from a DataFrame\n",
      "\n",
      "See the caveats in the documentation: https://pandas.pydata.org/pandas-docs/stable/user_guide/indexing.html#returning-a-view-versus-a-copy\n",
      "  v1[x] = 1 if vec1[x] == True else 0\n",
      "/tmp/ipykernel_14359/86911981.py:8: SettingWithCopyWarning: \n",
      "A value is trying to be set on a copy of a slice from a DataFrame\n",
      "\n",
      "See the caveats in the documentation: https://pandas.pydata.org/pandas-docs/stable/user_guide/indexing.html#returning-a-view-versus-a-copy\n",
      "  v2[x] = 1 if vec2[x] == True else 0\n",
      "/tmp/ipykernel_14359/86911981.py:8: SettingWithCopyWarning: \n",
      "A value is trying to be set on a copy of a slice from a DataFrame\n",
      "\n",
      "See the caveats in the documentation: https://pandas.pydata.org/pandas-docs/stable/user_guide/indexing.html#returning-a-view-versus-a-copy\n",
      "  v2[x] = 1 if vec2[x] == True else 0\n",
      "/tmp/ipykernel_14359/86911981.py:7: SettingWithCopyWarning: \n",
      "A value is trying to be set on a copy of a slice from a DataFrame\n",
      "\n",
      "See the caveats in the documentation: https://pandas.pydata.org/pandas-docs/stable/user_guide/indexing.html#returning-a-view-versus-a-copy\n",
      "  v1[x] = 1 if vec1[x] == True else 0\n",
      "/tmp/ipykernel_14359/86911981.py:7: SettingWithCopyWarning: \n",
      "A value is trying to be set on a copy of a slice from a DataFrame\n",
      "\n",
      "See the caveats in the documentation: https://pandas.pydata.org/pandas-docs/stable/user_guide/indexing.html#returning-a-view-versus-a-copy\n",
      "  v1[x] = 1 if vec1[x] == True else 0\n",
      "/tmp/ipykernel_14359/86911981.py:8: SettingWithCopyWarning: \n",
      "A value is trying to be set on a copy of a slice from a DataFrame\n",
      "\n",
      "See the caveats in the documentation: https://pandas.pydata.org/pandas-docs/stable/user_guide/indexing.html#returning-a-view-versus-a-copy\n",
      "  v2[x] = 1 if vec2[x] == True else 0\n",
      "/tmp/ipykernel_14359/86911981.py:8: SettingWithCopyWarning: \n",
      "A value is trying to be set on a copy of a slice from a DataFrame\n",
      "\n",
      "See the caveats in the documentation: https://pandas.pydata.org/pandas-docs/stable/user_guide/indexing.html#returning-a-view-versus-a-copy\n",
      "  v2[x] = 1 if vec2[x] == True else 0\n",
      "/tmp/ipykernel_14359/86911981.py:7: SettingWithCopyWarning: \n",
      "A value is trying to be set on a copy of a slice from a DataFrame\n",
      "\n",
      "See the caveats in the documentation: https://pandas.pydata.org/pandas-docs/stable/user_guide/indexing.html#returning-a-view-versus-a-copy\n",
      "  v1[x] = 1 if vec1[x] == True else 0\n",
      "/tmp/ipykernel_14359/86911981.py:7: SettingWithCopyWarning: \n",
      "A value is trying to be set on a copy of a slice from a DataFrame\n",
      "\n",
      "See the caveats in the documentation: https://pandas.pydata.org/pandas-docs/stable/user_guide/indexing.html#returning-a-view-versus-a-copy\n",
      "  v1[x] = 1 if vec1[x] == True else 0\n",
      "/tmp/ipykernel_14359/86911981.py:8: SettingWithCopyWarning: \n",
      "A value is trying to be set on a copy of a slice from a DataFrame\n",
      "\n",
      "See the caveats in the documentation: https://pandas.pydata.org/pandas-docs/stable/user_guide/indexing.html#returning-a-view-versus-a-copy\n",
      "  v2[x] = 1 if vec2[x] == True else 0\n",
      "/tmp/ipykernel_14359/86911981.py:8: SettingWithCopyWarning: \n",
      "A value is trying to be set on a copy of a slice from a DataFrame\n",
      "\n",
      "See the caveats in the documentation: https://pandas.pydata.org/pandas-docs/stable/user_guide/indexing.html#returning-a-view-versus-a-copy\n",
      "  v2[x] = 1 if vec2[x] == True else 0\n",
      "/tmp/ipykernel_14359/86911981.py:7: SettingWithCopyWarning: \n",
      "A value is trying to be set on a copy of a slice from a DataFrame\n",
      "\n",
      "See the caveats in the documentation: https://pandas.pydata.org/pandas-docs/stable/user_guide/indexing.html#returning-a-view-versus-a-copy\n",
      "  v1[x] = 1 if vec1[x] == True else 0\n",
      "/tmp/ipykernel_14359/86911981.py:7: SettingWithCopyWarning: \n",
      "A value is trying to be set on a copy of a slice from a DataFrame\n",
      "\n",
      "See the caveats in the documentation: https://pandas.pydata.org/pandas-docs/stable/user_guide/indexing.html#returning-a-view-versus-a-copy\n",
      "  v1[x] = 1 if vec1[x] == True else 0\n",
      "/tmp/ipykernel_14359/86911981.py:8: SettingWithCopyWarning: \n",
      "A value is trying to be set on a copy of a slice from a DataFrame\n",
      "\n",
      "See the caveats in the documentation: https://pandas.pydata.org/pandas-docs/stable/user_guide/indexing.html#returning-a-view-versus-a-copy\n",
      "  v2[x] = 1 if vec2[x] == True else 0\n",
      "/tmp/ipykernel_14359/86911981.py:8: SettingWithCopyWarning: \n",
      "A value is trying to be set on a copy of a slice from a DataFrame\n",
      "\n",
      "See the caveats in the documentation: https://pandas.pydata.org/pandas-docs/stable/user_guide/indexing.html#returning-a-view-versus-a-copy\n",
      "  v2[x] = 1 if vec2[x] == True else 0\n"
     ]
    }
   ],
   "source": [
    "#cosine similarity\n",
    "import math\n",
    "\n",
    "v1 = normalized_data.iloc[0]\n",
    "v2 = normalized_data.iloc[1]\n",
    "for x in vec1.index:\n",
    "    v1[x] = 1 if vec1[x] == True else 0\n",
    "    v2[x] = 1 if vec2[x] == True else 0\n",
    "\n",
    "v1 = v1[1:-2]\n",
    "v2 = v2[1:-2]\n",
    "def cosine_similarity(v1,v2):\n",
    "    dot_pro = sum([x*y for x,y in zip(v1,v2)])\n",
    "    magv1 = getlen(v1)\n",
    "    magv2 = getlen(v2)\n",
    "    return dot_pro/(magv1*magv2)\n",
    "def getlen(v):\n",
    "    magv = math.sqrt(sum([x**2 for x in v]))\n",
    "    return magv\n",
    "\n",
    "print(\"cosine similarity measure:\",cosine_similarity(v1,v2))"
   ]
  },
  {
   "cell_type": "markdown",
   "id": "f4a6c1c7",
   "metadata": {},
   "source": [
    "**A10. Heatmap Plot: Consider the first 20 observation vectors. Calculate the JC, SMC and COS\n",
    "between the pairs of vectors for these 20 vectors. Employ similar strategies for coefficient\n",
    "calculation as in A4 & A5. Employ a heatmap plot to visualize the similarities.**"
   ]
  },
  {
   "cell_type": "code",
   "execution_count": 32,
   "id": "d345a915-a851-4047-bc41-323c8380e213",
   "metadata": {},
   "outputs": [
    {
     "data": {
      "image/png": "[encoded data removed]",
      "text/plain": [
       "<Figure size 640x480 with 2 Axes>"
      ]
     },
     "metadata": {},
     "output_type": "display_data"
    },
    {
     "data": {
      "image/png": "[encoded data removed]",
      "text/plain": [
       "<Figure size 640x480 with 2 Axes>"
      ]
     },
     "metadata": {},
     "output_type": "display_data"
    },
    {
     "data": {
      "image/png": "[encoded data removed]",
      "text/plain": [
       "<Figure size 640x480 with 2 Axes>"
      ]
     },
     "metadata": {},
     "output_type": "display_data"
    }
   ],
   "source": [
    "import seaborn as sns\n",
    "# Select the first 20 observations\n",
    "subset_data = thyroid_data.iloc[:20,1:-2].bfill()\n",
    "\n",
    "\n",
    "for i in range(0,20):\n",
    "    for column in binary_df.columns:\n",
    "        subset_data.loc[i,column] = 1 if binary_df.loc[i,column] == True else 0\n",
    "\n",
    "# Initialize matrices for JC, SMC, and Cosine Similarity\n",
    "jc_matrix = np.zeros((20,len(subset_data.columns)))\n",
    "smc_matrix = np.zeros((20,len(subset_data.columns)))\n",
    "cos_matrix = np.zeros((20, len(subset_data.columns)))\n",
    "\n",
    "# Calculate JC, SMC, and COS for each pair of vectors\n",
    "for i in range(20):\n",
    "    for j in range(i,20):\n",
    "        vec1 = subset_data.loc[i,binary_attr]\n",
    "        vec2 = subset_data.loc[j,binary_attr]\n",
    "        # JC Calculation\n",
    "        f11 = sum(vec1 & vec2)\n",
    "        f01_10 = sum(vec1 ^ vec2)\n",
    "        f00 = sum(~(vec1 | vec2))\n",
    "                  \n",
    "        denominator_jc = (f01_10 + f11)\n",
    "        if denominator_jc == 0:\n",
    "            jc_matrix[i, j] = jc_matrix[j, i] = 0  # Symmetric matrix\n",
    "        else:\n",
    "            jc_matrix[i, j] = jc_matrix[j, i] = f11 / denominator_jc  # Symmetric matrix\n",
    "        \n",
    "        # SMC Calculation\n",
    "        denominator_smc = (f00 + f01_10 + f11)\n",
    "        if denominator_smc == 0:\n",
    "            smc_matrix[i, j] = smc_matrix[j, i] = 0  # Symmetric matrix\n",
    "        else:\n",
    "            smc_matrix[i, j] = smc_matrix[j, i] = (f11 + f00) / denominator_smc  # Symmetric matrix\n",
    "        \n",
    "        # Cosine Similarity Calculation\n",
    "        vec1 = subset_data.iloc[i]\n",
    "        vec2 = subset_data.iloc[j]\n",
    "        cos_matrix[i, j] = cos_matrix[j, i] = cosine_similarity(vec1, vec2)  # Symmetric matrix\n",
    "\n",
    "# Plot Heatmaps\n",
    "sns.heatmap(jc_matrix)\n",
    "plt.title('Jaccard Coefficient Heatmap')\n",
    "plt.show()\n",
    "\n",
    "sns.heatmap(smc_matrix)\n",
    "plt.title('Simple Matching Coefficient Heatmap')\n",
    "plt.show()\n",
    "\n",
    "sns.heatmap(cos_matrix)\n",
    "plt.title('Cosine Similarity Heatmap')\n",
    "plt.show()\n"
   ]
  },
  {
   "cell_type": "code",
   "execution_count": null,
   "id": "8fca1fa2",
   "metadata": {},
   "outputs": [],
   "source": []
  }
 ],
 "metadata": {
  "kernelspec": {
   "display_name": "Python 3 (ipykernel)",
   "language": "python",
   "name": "python3"
  },
  "language_info": {
   "codemirror_mode": {
    "name": "ipython",
    "version": 3
   },
   "file_extension": ".py",
   "mimetype": "text/x-python",
   "name": "python",
   "nbconvert_exporter": "python",
   "pygments_lexer": "ipython3",
   "version": "3.12.3"
  }
 },
 "nbformat": 4,
 "nbformat_minor": 5
}
