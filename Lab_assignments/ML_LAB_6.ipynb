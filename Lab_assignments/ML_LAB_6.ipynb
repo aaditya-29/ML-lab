{
 "cells": [
  {
   "cell_type": "code",
   "execution_count": 1,
   "metadata": {
    "id": "_44wwGNyscuC"
   },
   "outputs": [],
   "source": [
    "import numpy as np"
   ]
  },
  {
   "cell_type": "markdown",
   "metadata": {},
   "source": [
    "**A1. Write your own functions for the following modules:\n",
    "a) Summation unit\n",
    "b) Activation Unit – Step, Bipolar Step, Sigmoid, TanH, ReLU and Leaky ReLU functions\n",
    "c) Comparator unit for Error calculation**"
   ]
  },
  {
   "cell_type": "code",
   "execution_count": 2,
   "metadata": {
    "id": "IH_0guARu0Ze"
   },
   "outputs": [],
   "source": [
    "def summation(weight_0, weight_1, weight_2,  x1, x2):\n",
    "  return (weight_0 + weight_1 * x1 + weight_2 * x2)"
   ]
  },
  {
   "cell_type": "code",
   "execution_count": 3,
   "metadata": {
    "id": "wpuu_moVs8hd"
   },
   "outputs": [],
   "source": [
    "def activation_unit_step(y_in):\n",
    "  if y_in < 0:\n",
    "    return -1\n",
    "  if y_in == 0:\n",
    "    return 0\n",
    "  if y_in > 0:\n",
    "    return 1"
   ]
  },
  {
   "cell_type": "code",
   "execution_count": 4,
   "metadata": {
    "id": "efIa2NcCuJ0U"
   },
   "outputs": [],
   "source": [
    "def activation_unit_sigmoid(y_in):\n",
    "  return 1/(1 + np.exp(-y_in))"
   ]
  },
  {
   "cell_type": "code",
   "execution_count": 5,
   "metadata": {
    "id": "RLblQy4Wv3-_"
   },
   "outputs": [],
   "source": [
    "def activation_unit_binaryStep(y_in):\n",
    "  if y_in < 0:\n",
    "    return 0\n",
    "  else:\n",
    "    return 1"
   ]
  },
  {
   "cell_type": "code",
   "execution_count": 6,
   "metadata": {
    "id": "gdKOYwoWvFgP"
   },
   "outputs": [],
   "source": [
    "def activation_unit_RectifiedLinearUnit(y_in):\n",
    "    if y_in < 0:\n",
    "      return 0\n",
    "    else:\n",
    "      return y_in"
   ]
  },
  {
   "cell_type": "code",
   "execution_count": 7,
   "metadata": {
    "id": "xYUpw5ZNxC7g"
   },
   "outputs": [],
   "source": [
    "def activation_unit_tanH(y_in):\n",
    "  return (np.exp(y_in) - np.exp(-1 * y_in)) / (np.exp(y_in) + np.exp(-1 * y_in))"
   ]
  },
  {
   "cell_type": "code",
   "execution_count": 8,
   "metadata": {
    "id": "oXnlV0klxnwi"
   },
   "outputs": [],
   "source": [
    "def activation_function_leaky_rlu(y_in):\n",
    "  if y_in > 0:\n",
    "\t  return y_in\n",
    "  else:\n",
    "    return 0.01*y_in"
   ]
  },
  {
   "cell_type": "markdown",
   "metadata": {
    "id": "sl6P1lfBdwp6"
   },
   "source": [
    "**A2. Develop the above perceptron in your own code (don’t use the perceptron model available from\n",
    "package). Use the initial weights as provided below.\n",
    "W0 = 10, W1 = 0.2, w2 = -0.75, learning rate (α) = 0.05**"
   ]
  },
  {
   "cell_type": "code",
   "execution_count": 9,
   "metadata": {
    "id": "njEFdI5wevaX"
   },
   "outputs": [],
   "source": [
    "def perceptron(x1, x2, w0, w1, w2, learning_rate, target, epochs=10):\n",
    "    for epoch in range(epochs):\n",
    "        for i in range(len(x1)):\n",
    "            sum_value = summation(w0, w1, w2, x1[i], x2[i])\n",
    "\n",
    "            y = activation_unit_step(sum_value)\n",
    "\n",
    "            error = target[i] - y\n",
    "            if error != 0:\n",
    "                w0 = w0 + learning_rate * error * 1\n",
    "                w1 = w1 + learning_rate * error * x1[i]\n",
    "                w2 = w2 + learning_rate * error * x2[i]\n",
    "\n",
    "        print(f\"Epoch {epoch + 1} - Weights: w0 = {w0}, w1 = {w1}, w2 = {w2}\")\n",
    "\n",
    "    print(\"Final Weights:\", w0, w1, w2)\n",
    "    return w0, w1, w2\n",
    "\n"
   ]
  },
  {
   "cell_type": "markdown",
   "metadata": {},
   "source": [
    "**Write a function for Activation function. Develop & Use the code for Step activation function to learn\n",
    "the weights of the network to implement above provided AND gate logic. The activation function is\n",
    "demonstrated below.**"
   ]
  },
  {
   "cell_type": "code",
   "execution_count": 10,
   "metadata": {},
   "outputs": [
    {
     "name": "stdout",
     "output_type": "stream",
     "text": [
      "Epoch 1 - Weights: w0 = 9.700000000000001, w1 = 0.30000000000000004, w2 = -0.65\n",
      "Epoch 2 - Weights: w0 = 9.400000000000002, w1 = 0.4, w2 = -0.55\n",
      "Epoch 3 - Weights: w0 = 9.100000000000003, w1 = 0.5, w2 = -0.45000000000000007\n",
      "Epoch 4 - Weights: w0 = 8.800000000000004, w1 = 0.6, w2 = -0.3500000000000001\n",
      "Epoch 5 - Weights: w0 = 8.500000000000005, w1 = 0.7, w2 = -0.2500000000000001\n",
      "Epoch 6 - Weights: w0 = 8.200000000000006, w1 = 0.7999999999999999, w2 = -0.1500000000000001\n",
      "Epoch 7 - Weights: w0 = 7.9000000000000075, w1 = 0.8999999999999999, w2 = -0.0500000000000001\n",
      "Epoch 8 - Weights: w0 = 7.6000000000000085, w1 = 0.9999999999999999, w2 = 0.049999999999999906\n",
      "Epoch 9 - Weights: w0 = 7.30000000000001, w1 = 1.0999999999999999, w2 = 0.1499999999999999\n",
      "Epoch 10 - Weights: w0 = 7.000000000000011, w1 = 1.2, w2 = 0.24999999999999992\n",
      "Final Weights: 7.000000000000011 1.2 0.24999999999999992\n"
     ]
    },
    {
     "data": {
      "text/plain": [
       "(7.000000000000011, 1.2, 0.24999999999999992)"
      ]
     },
     "execution_count": 10,
     "metadata": {},
     "output_type": "execute_result"
    }
   ],
   "source": [
    "perceptron(x1=[-1, -1, 1, 1], x2=[-1, 1, -1, 1], w0=10, w1=0.2, w2=-0.75, learning_rate=0.05, target=[-1, -1, -1, 1])"
   ]
  },
  {
   "cell_type": "code",
   "execution_count": null,
   "metadata": {},
   "outputs": [],
   "source": []
  }
 ],
 "metadata": {
  "colab": {
   "provenance": []
  },
  "kernelspec": {
   "display_name": "Python 3 (ipykernel)",
   "language": "python",
   "name": "python3"
  },
  "language_info": {
   "codemirror_mode": {
    "name": "ipython",
    "version": 3
   },
   "file_extension": ".py",
   "mimetype": "text/x-python",
   "name": "python",
   "nbconvert_exporter": "python",
   "pygments_lexer": "ipython3",
   "version": "3.12.3"
  }
 },
 "nbformat": 4,
 "nbformat_minor": 1
}
